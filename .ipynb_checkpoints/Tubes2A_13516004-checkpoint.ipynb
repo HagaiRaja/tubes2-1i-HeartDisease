{
 "cells": [
  {
   "cell_type": "markdown",
   "metadata": {},
   "source": [
    "## Tugas Besar 2 Intelegensia Buatan"
   ]
  },
  {
   "cell_type": "markdown",
   "metadata": {},
   "source": [
    "Kelompok 5 - DoorDash :\n",
    "<br>\n",
    "Thareq Muhammad Yusuf Hasnul A / 13516004;\n",
    "<br>\n",
    "Albert Sahala Theodore / 13516022;\n",
    "<br>\n",
    "Dandy Arif Rahman / 13516086;\n",
    "<br>\n",
    "Tanor Abraham Reyuko / 13516088;\n",
    "<br>\n",
    "Hagai Raja Sinulingga / 13516136;"
   ]
  },
  {
   "cell_type": "code",
   "execution_count": 1,
   "metadata": {},
   "outputs": [],
   "source": [
    "import numpy as np \n",
    "import pandas as pd \n",
    "import matplotlib.pyplot as plt\n",
    "import pickle\n",
    "from sklearn.model_selection import train_test_split\n",
    "from sklearn import metrics\n",
    "\n",
    "from sklearn.naive_bayes import GaussianNB\n",
    "from sklearn.tree import DecisionTreeClassifier\n",
    "from sklearn.neighbors import KNeighborsClassifier \n",
    "from sklearn.neural_network import MLPClassifier\n",
    "from sklearn.preprocessing import StandardScaler"
   ]
  },
  {
   "cell_type": "markdown",
   "metadata": {},
   "source": [
    "## Pembacaan Dataset"
   ]
  },
  {
   "cell_type": "code",
   "execution_count": 2,
   "metadata": {},
   "outputs": [],
   "source": [
    "data_test = pd.read_csv(\"tubes2_HeartDisease_test.csv\")\n",
    "data_train = pd.read_csv(\"tubes2_HeartDisease_train.csv\")"
   ]
  },
  {
   "cell_type": "code",
   "execution_count": 3,
   "metadata": {},
   "outputs": [
    {
     "data": {
      "text/html": [
       "<div>\n",
       "<style scoped>\n",
       "    .dataframe tbody tr th:only-of-type {\n",
       "        vertical-align: middle;\n",
       "    }\n",
       "\n",
       "    .dataframe tbody tr th {\n",
       "        vertical-align: top;\n",
       "    }\n",
       "\n",
       "    .dataframe thead th {\n",
       "        text-align: right;\n",
       "    }\n",
       "</style>\n",
       "<table border=\"1\" class=\"dataframe\">\n",
       "  <thead>\n",
       "    <tr style=\"text-align: right;\">\n",
       "      <th></th>\n",
       "      <th>Column1</th>\n",
       "      <th>Column2</th>\n",
       "      <th>Column3</th>\n",
       "      <th>Column4</th>\n",
       "      <th>Column5</th>\n",
       "      <th>Column6</th>\n",
       "      <th>Column7</th>\n",
       "      <th>Column8</th>\n",
       "      <th>Column9</th>\n",
       "      <th>Column10</th>\n",
       "      <th>Column11</th>\n",
       "      <th>Column12</th>\n",
       "      <th>Column13</th>\n",
       "      <th>Column14</th>\n",
       "    </tr>\n",
       "  </thead>\n",
       "  <tbody>\n",
       "    <tr>\n",
       "      <th>0</th>\n",
       "      <td>54</td>\n",
       "      <td>1</td>\n",
       "      <td>4</td>\n",
       "      <td>125</td>\n",
       "      <td>216</td>\n",
       "      <td>0</td>\n",
       "      <td>0</td>\n",
       "      <td>140</td>\n",
       "      <td>0</td>\n",
       "      <td>0</td>\n",
       "      <td>?</td>\n",
       "      <td>?</td>\n",
       "      <td>?</td>\n",
       "      <td>1</td>\n",
       "    </tr>\n",
       "    <tr>\n",
       "      <th>1</th>\n",
       "      <td>55</td>\n",
       "      <td>1</td>\n",
       "      <td>4</td>\n",
       "      <td>158</td>\n",
       "      <td>217</td>\n",
       "      <td>0</td>\n",
       "      <td>0</td>\n",
       "      <td>110</td>\n",
       "      <td>1</td>\n",
       "      <td>2.5</td>\n",
       "      <td>2</td>\n",
       "      <td>?</td>\n",
       "      <td>?</td>\n",
       "      <td>1</td>\n",
       "    </tr>\n",
       "    <tr>\n",
       "      <th>2</th>\n",
       "      <td>54</td>\n",
       "      <td>0</td>\n",
       "      <td>3</td>\n",
       "      <td>135</td>\n",
       "      <td>304</td>\n",
       "      <td>1</td>\n",
       "      <td>0</td>\n",
       "      <td>170</td>\n",
       "      <td>0</td>\n",
       "      <td>0</td>\n",
       "      <td>1</td>\n",
       "      <td>0</td>\n",
       "      <td>3</td>\n",
       "      <td>0</td>\n",
       "    </tr>\n",
       "    <tr>\n",
       "      <th>3</th>\n",
       "      <td>48</td>\n",
       "      <td>0</td>\n",
       "      <td>3</td>\n",
       "      <td>120</td>\n",
       "      <td>195</td>\n",
       "      <td>0</td>\n",
       "      <td>0</td>\n",
       "      <td>125</td>\n",
       "      <td>0</td>\n",
       "      <td>0</td>\n",
       "      <td>?</td>\n",
       "      <td>?</td>\n",
       "      <td>?</td>\n",
       "      <td>0</td>\n",
       "    </tr>\n",
       "    <tr>\n",
       "      <th>4</th>\n",
       "      <td>50</td>\n",
       "      <td>1</td>\n",
       "      <td>4</td>\n",
       "      <td>120</td>\n",
       "      <td>0</td>\n",
       "      <td>0</td>\n",
       "      <td>1</td>\n",
       "      <td>156</td>\n",
       "      <td>1</td>\n",
       "      <td>0</td>\n",
       "      <td>1</td>\n",
       "      <td>?</td>\n",
       "      <td>6</td>\n",
       "      <td>3</td>\n",
       "    </tr>\n",
       "  </tbody>\n",
       "</table>\n",
       "</div>"
      ],
      "text/plain": [
       "   Column1  Column2  Column3 Column4 Column5 Column6 Column7 Column8 Column9  \\\n",
       "0       54        1        4     125     216       0       0     140       0   \n",
       "1       55        1        4     158     217       0       0     110       1   \n",
       "2       54        0        3     135     304       1       0     170       0   \n",
       "3       48        0        3     120     195       0       0     125       0   \n",
       "4       50        1        4     120       0       0       1     156       1   \n",
       "\n",
       "  Column10 Column11 Column12 Column13  Column14  \n",
       "0        0        ?        ?        ?         1  \n",
       "1      2.5        2        ?        ?         1  \n",
       "2        0        1        0        3         0  \n",
       "3        0        ?        ?        ?         0  \n",
       "4        0        1        ?        6         3  "
      ]
     },
     "execution_count": 3,
     "metadata": {},
     "output_type": "execute_result"
    }
   ],
   "source": [
    "data_train.head()"
   ]
  },
  {
   "cell_type": "code",
   "execution_count": 4,
   "metadata": {},
   "outputs": [
    {
     "data": {
      "text/html": [
       "<div>\n",
       "<style scoped>\n",
       "    .dataframe tbody tr th:only-of-type {\n",
       "        vertical-align: middle;\n",
       "    }\n",
       "\n",
       "    .dataframe tbody tr th {\n",
       "        vertical-align: top;\n",
       "    }\n",
       "\n",
       "    .dataframe thead th {\n",
       "        text-align: right;\n",
       "    }\n",
       "</style>\n",
       "<table border=\"1\" class=\"dataframe\">\n",
       "  <thead>\n",
       "    <tr style=\"text-align: right;\">\n",
       "      <th></th>\n",
       "      <th>Column1</th>\n",
       "      <th>Column2</th>\n",
       "      <th>Column3</th>\n",
       "      <th>Column4</th>\n",
       "      <th>Column5</th>\n",
       "      <th>Column6</th>\n",
       "      <th>Column7</th>\n",
       "      <th>Column8</th>\n",
       "      <th>Column9</th>\n",
       "      <th>Column10</th>\n",
       "      <th>Column11</th>\n",
       "      <th>Column12</th>\n",
       "      <th>Column13</th>\n",
       "    </tr>\n",
       "  </thead>\n",
       "  <tbody>\n",
       "    <tr>\n",
       "      <th>0</th>\n",
       "      <td>60</td>\n",
       "      <td>1</td>\n",
       "      <td>2</td>\n",
       "      <td>160</td>\n",
       "      <td>267</td>\n",
       "      <td>1</td>\n",
       "      <td>1</td>\n",
       "      <td>157</td>\n",
       "      <td>0</td>\n",
       "      <td>0.5</td>\n",
       "      <td>2</td>\n",
       "      <td>?</td>\n",
       "      <td>?</td>\n",
       "    </tr>\n",
       "    <tr>\n",
       "      <th>1</th>\n",
       "      <td>61</td>\n",
       "      <td>1</td>\n",
       "      <td>4</td>\n",
       "      <td>148</td>\n",
       "      <td>203</td>\n",
       "      <td>0</td>\n",
       "      <td>0</td>\n",
       "      <td>161</td>\n",
       "      <td>0</td>\n",
       "      <td>0</td>\n",
       "      <td>1</td>\n",
       "      <td>1</td>\n",
       "      <td>7</td>\n",
       "    </tr>\n",
       "    <tr>\n",
       "      <th>2</th>\n",
       "      <td>54</td>\n",
       "      <td>1</td>\n",
       "      <td>4</td>\n",
       "      <td>130</td>\n",
       "      <td>242</td>\n",
       "      <td>0</td>\n",
       "      <td>0</td>\n",
       "      <td>91</td>\n",
       "      <td>1</td>\n",
       "      <td>1</td>\n",
       "      <td>2</td>\n",
       "      <td>?</td>\n",
       "      <td>?</td>\n",
       "    </tr>\n",
       "    <tr>\n",
       "      <th>3</th>\n",
       "      <td>48</td>\n",
       "      <td>1</td>\n",
       "      <td>4</td>\n",
       "      <td>120</td>\n",
       "      <td>260</td>\n",
       "      <td>0</td>\n",
       "      <td>0</td>\n",
       "      <td>115</td>\n",
       "      <td>0</td>\n",
       "      <td>2</td>\n",
       "      <td>2</td>\n",
       "      <td>?</td>\n",
       "      <td>?</td>\n",
       "    </tr>\n",
       "    <tr>\n",
       "      <th>4</th>\n",
       "      <td>57</td>\n",
       "      <td>0</td>\n",
       "      <td>1</td>\n",
       "      <td>130</td>\n",
       "      <td>308</td>\n",
       "      <td>0</td>\n",
       "      <td>0</td>\n",
       "      <td>98</td>\n",
       "      <td>0</td>\n",
       "      <td>1</td>\n",
       "      <td>2</td>\n",
       "      <td>?</td>\n",
       "      <td>?</td>\n",
       "    </tr>\n",
       "  </tbody>\n",
       "</table>\n",
       "</div>"
      ],
      "text/plain": [
       "   Column1  Column2  Column3 Column4 Column5 Column6  Column7 Column8 Column9  \\\n",
       "0       60        1        2     160     267       1        1     157       0   \n",
       "1       61        1        4     148     203       0        0     161       0   \n",
       "2       54        1        4     130     242       0        0      91       1   \n",
       "3       48        1        4     120     260       0        0     115       0   \n",
       "4       57        0        1     130     308       0        0      98       0   \n",
       "\n",
       "  Column10 Column11 Column12 Column13  \n",
       "0      0.5        2        ?        ?  \n",
       "1        0        1        1        7  \n",
       "2        1        2        ?        ?  \n",
       "3        2        2        ?        ?  \n",
       "4        1        2        ?        ?  "
      ]
     },
     "execution_count": 4,
     "metadata": {},
     "output_type": "execute_result"
    }
   ],
   "source": [
    "data_test.head()"
   ]
  },
  {
   "cell_type": "code",
   "execution_count": 5,
   "metadata": {},
   "outputs": [
    {
     "name": "stdout",
     "output_type": "stream",
     "text": [
      "Banyak Data Train : 779 \n",
      "Banyak Data Test : 141\n"
     ]
    }
   ],
   "source": [
    "print(\"Banyak Data Train :\", len(data_train), \"\\nBanyak Data Test :\", len(data_test))"
   ]
  },
  {
   "cell_type": "markdown",
   "metadata": {},
   "source": [
    "## 1. Pengolahan Data"
   ]
  },
  {
   "cell_type": "markdown",
   "metadata": {},
   "source": [
    "### Penanganan NaN"
   ]
  },
  {
   "cell_type": "markdown",
   "metadata": {},
   "source": [
    "#### Menghitung Jumlah NaN per Kolom"
   ]
  },
  {
   "cell_type": "code",
   "execution_count": 6,
   "metadata": {},
   "outputs": [
    {
     "data": {
      "text/plain": [
       "779"
      ]
     },
     "execution_count": 6,
     "metadata": {},
     "output_type": "execute_result"
    }
   ],
   "source": [
    "len(data_train)"
   ]
  },
  {
   "cell_type": "code",
   "execution_count": 7,
   "metadata": {},
   "outputs": [
    {
     "name": "stdout",
     "output_type": "stream",
     "text": [
      "------------------- Data NaN pada data train -------------------\n",
      "Column1 berisi \"?\" sebanyak : 0 \tyaitu : 0.0 %\n",
      "Column2 berisi \"?\" sebanyak : 0 \tyaitu : 0.0 %\n",
      "Column3 berisi \"?\" sebanyak : 0 \tyaitu : 0.0 %\n",
      "Column4 berisi \"?\" sebanyak : 47 \tyaitu : 6.033376123234917 %\n",
      "Column5 berisi \"?\" sebanyak : 24 \tyaitu : 3.080872913992298 %\n",
      "Column6 berisi \"?\" sebanyak : 78 \tyaitu : 10.012836970474968 %\n",
      "Column7 berisi \"?\" sebanyak : 1 \tyaitu : 0.12836970474967907 %\n",
      "Column8 berisi \"?\" sebanyak : 44 \tyaitu : 5.648267008985879 %\n",
      "Column9 berisi \"?\" sebanyak : 44 \tyaitu : 5.648267008985879 %\n",
      "Column10 berisi \"?\" sebanyak : 49 \tyaitu : 6.290115532734275 %\n",
      "Column11 berisi \"?\" sebanyak : 262 \tyaitu : 33.632862644415916 %\n",
      "Column12 berisi \"?\" sebanyak : 514 \tyaitu : 65.98202824133504 %\n",
      "Column13 berisi \"?\" sebanyak : 408 \tyaitu : 52.374839537869065 %\n",
      "Column14 berisi \"?\" sebanyak : 0 \tyaitu : 0.0 %\n",
      "\n",
      "------------------- Data NaN pada data test -------------------\n",
      "Column1 berisi \"?\" sebanyak : 0 \tyaitu : 0.0 %\n",
      "Column2 berisi \"?\" sebanyak : 0 \tyaitu : 0.0 %\n",
      "Column3 berisi \"?\" sebanyak : 0 \tyaitu : 0.0 %\n",
      "Column4 berisi \"?\" sebanyak : 12 \tyaitu : 8.51063829787234 %\n",
      "Column5 berisi \"?\" sebanyak : 6 \tyaitu : 4.25531914893617 %\n",
      "Column6 berisi \"?\" sebanyak : 12 \tyaitu : 8.51063829787234 %\n",
      "Column7 berisi \"?\" sebanyak : 0 \tyaitu : 0.0 %\n",
      "Column8 berisi \"?\" sebanyak : 11 \tyaitu : 7.801418439716312 %\n",
      "Column9 berisi \"?\" sebanyak : 11 \tyaitu : 7.801418439716312 %\n",
      "Column10 berisi \"?\" sebanyak : 13 \tyaitu : 9.219858156028367 %\n",
      "Column11 berisi \"?\" sebanyak : 47 \tyaitu : 33.33333333333333 %\n",
      "Column12 berisi \"?\" sebanyak : 97 \tyaitu : 68.79432624113475 %\n",
      "Column13 berisi \"?\" sebanyak : 78 \tyaitu : 55.319148936170215 %\n"
     ]
    }
   ],
   "source": [
    "def countNanCol(df, colName) :\n",
    "    count = 0\n",
    "    for index, row in df.iterrows():\n",
    "        if (row[colName] == \"?\") :\n",
    "            count += 1\n",
    "    return count\n",
    "\n",
    "print(\"------------------- Data NaN pada data train -------------------\")\n",
    "for column in data_train:\n",
    "    banyakKosong = countNanCol(data_train, column)\n",
    "    print(column, \"berisi \\\"?\\\" sebanyak :\", banyakKosong, \"\\tyaitu :\", banyakKosong/len(data_train)*100, \"%\")\n",
    "    \n",
    "print()\n",
    "print(\"------------------- Data NaN pada data test -------------------\")\n",
    "for column in data_test:\n",
    "    banyakKosong = countNanCol(data_test, column)\n",
    "    print(column, \"berisi \\\"?\\\" sebanyak :\", banyakKosong, \"\\tyaitu :\", banyakKosong/len(data_test)*100, \"%\")"
   ]
  },
  {
   "cell_type": "markdown",
   "metadata": {},
   "source": [
    "#### Menghitung Jumlah NaN per Baris"
   ]
  },
  {
   "cell_type": "code",
   "execution_count": 8,
   "metadata": {},
   "outputs": [
    {
     "name": "stdout",
     "output_type": "stream",
     "text": [
      "------------------- Data NaN pada data train -------------------\n",
      "Kosong sebanyak 0 ada sejumlah : 256 \tyakni : 32.86264441591784 %\n",
      "Kosong sebanyak 1 ada sejumlah : 62 \tyakni : 7.958921694480104 %\n",
      "Kosong sebanyak 2 ada sejumlah : 172 \tyakni : 22.0795892169448 %\n",
      "Kosong sebanyak 3 ada sejumlah : 223 \tyakni : 28.626444159178433 %\n",
      "Kosong sebanyak 4 ada sejumlah : 21 \tyakni : 2.6957637997432604 %\n",
      "Kosong sebanyak 5 ada sejumlah : 2 \tyakni : 0.25673940949935814 %\n",
      "Kosong sebanyak 6 ada sejumlah : 1 \tyakni : 0.12836970474967907 %\n",
      "Kosong sebanyak 7 ada sejumlah : 40 \tyakni : 5.134788189987163 %\n",
      "Kosong sebanyak 8 ada sejumlah : 2 \tyakni : 0.25673940949935814 %\n",
      "Kosong sebanyak 9 ada sejumlah : 0 \tyakni : 0.0 %\n",
      "Kosong sebanyak 10 ada sejumlah : 0 \tyakni : 0.0 %\n",
      "Kosong sebanyak 11 ada sejumlah : 0 \tyakni : 0.0 %\n",
      "Kosong sebanyak 12 ada sejumlah : 0 \tyakni : 0.0 %\n",
      "\n",
      "------------------- Data NaN pada data test -------------------\n",
      "Kosong sebanyak 0 ada sejumlah : 43 \tyakni : 5.5198973042362 %\n",
      "Kosong sebanyak 1 ada sejumlah : 12 \tyakni : 1.540436456996149 %\n",
      "Kosong sebanyak 2 ada sejumlah : 36 \tyakni : 4.621309370988447 %\n",
      "Kosong sebanyak 3 ada sejumlah : 31 \tyakni : 3.979460847240052 %\n",
      "Kosong sebanyak 4 ada sejumlah : 7 \tyakni : 0.8985879332477535 %\n",
      "Kosong sebanyak 5 ada sejumlah : 1 \tyakni : 0.12836970474967907 %\n",
      "Kosong sebanyak 6 ada sejumlah : 0 \tyakni : 0.0 %\n",
      "Kosong sebanyak 7 ada sejumlah : 11 \tyakni : 1.4120667522464698 %\n",
      "Kosong sebanyak 8 ada sejumlah : 0 \tyakni : 0.0 %\n",
      "Kosong sebanyak 9 ada sejumlah : 0 \tyakni : 0.0 %\n",
      "Kosong sebanyak 10 ada sejumlah : 0 \tyakni : 0.0 %\n",
      "Kosong sebanyak 11 ada sejumlah : 0 \tyakni : 0.0 %\n",
      "Kosong sebanyak 12 ada sejumlah : 0 \tyakni : 0.0 %\n"
     ]
    }
   ],
   "source": [
    "def countNanRow(df, rowNum) :\n",
    "    count = 0\n",
    "    for column in df :\n",
    "        if (df.loc[rowNum][column] == \"?\") :\n",
    "            count += 1\n",
    "    return count\n",
    "\n",
    "print(\"------------------- Data NaN pada data train -------------------\")\n",
    "rowNan = [0 for i in range (13)]\n",
    "# counting\n",
    "for index, row in data_train.iterrows():\n",
    "    rowNan[countNanRow(data_train, index)] += 1\n",
    "for i in range (13):\n",
    "    print(\"Kosong sebanyak\", i, \"ada sejumlah :\", rowNan[i], \"\\tyakni :\", rowNan[i]/len(data_train)*100, \"%\")\n",
    "    \n",
    "print()\n",
    "print(\"------------------- Data NaN pada data test -------------------\")\n",
    "rowNan = [0 for i in range (13)]\n",
    "# counting\n",
    "for index, row in data_test.iterrows():\n",
    "    rowNan[countNanRow(data_test, index)] += 1\n",
    "for i in range (13):\n",
    "    print(\"Kosong sebanyak\", i, \"ada sejumlah :\", rowNan[i], \"\\tyakni :\", rowNan[i]/len(data_train)*100, \"%\")"
   ]
  },
  {
   "cell_type": "markdown",
   "metadata": {},
   "source": [
    "#### Mengabaikan data pada baris dengan jumlah kosong sebanyak Threshold"
   ]
  },
  {
   "cell_type": "markdown",
   "metadata": {},
   "source": [
    "Dari data program diatas terlihat bahwa ada data yang memiliki missing value cukup banyak. Data ini dapat menimbulkan model bias karena missing value akan diisi data modus, median atau mean. Sehingga untuk data dengan missing value lebih banyak dari threshold akan dihapus. Nilai threshold ini sudah kami validasi, agar model memiliki akurasi paling tingi (optimum), nilai threshold yang dipilih adalah 8 atau dengan kata lain tidak menghapus sama sekali data. Artinya, pada kasus kali ini, missing value masih bisa ditolerir oleh model karena jumlahnya juga tidak terlalu banyak yakni 1.4%."
   ]
  },
  {
   "cell_type": "code",
   "execution_count": 9,
   "metadata": {},
   "outputs": [
    {
     "name": "stdout",
     "output_type": "stream",
     "text": [
      "Jumlah data baru : 779\n"
     ]
    }
   ],
   "source": [
    "threshold = 8\n",
    "\n",
    "listDel = []\n",
    "for index, row in data_train.iterrows():\n",
    "    if (countNanRow(data_train, index) > threshold) :\n",
    "        listDel.append(index)\n",
    "\n",
    "data_train_clean = data_train.drop(listDel)\n",
    "print(\"Jumlah data baru :\", len(data_train_clean))"
   ]
  },
  {
   "cell_type": "markdown",
   "metadata": {},
   "source": [
    "#### Mengisi data kosong dengan mean pada kolom 4, 5, 8, 10, 12 dan modus untuk sisanya"
   ]
  },
  {
   "cell_type": "markdown",
   "metadata": {},
   "source": [
    "Untuk data yang termasuk categorical digunakan mean dan median untuk mengisi missing value, hal ini dilakukan agar tidak terlalu mengubah data secara keseluruhan saat dilakukan perhitungan prediksi dengan beberapa algoritma seperti Naive Bayes, Decision Tree, kNN, dan Neural Network MLP. Untuk data yang bersifat biner yaitu hanya bernilai 0 atau 1, digunakan modus untuk mengisi missing value karena lebih merepresentasikan data secara keseluruhan dibandingkan mengganti dengan median atau modus karena hasil bisa bersifat desimal antara 0 dan 1 yang menjadikan tidak bermakna sesuai dengan data aslinya."
   ]
  },
  {
   "cell_type": "markdown",
   "metadata": {},
   "source": [
    "Mencari nilai data yang akan dimasukkan"
   ]
  },
  {
   "cell_type": "code",
   "execution_count": 10,
   "metadata": {},
   "outputs": [],
   "source": [
    "## Cek data dulu pake mean atau median\n",
    "replacer = []\n",
    "\n",
    "def dropNanOnCol(df, colName) :\n",
    "    listDel = []\n",
    "    for index, row in df.iterrows():\n",
    "        if (row[colName] == \"?\") :\n",
    "            listDel.append(index)\n",
    "    return df.drop(listDel)\n",
    "\n",
    "changeWithMean = ['Column4', 'Column5', 'Column8', 'Column10', 'Column12']\n",
    "for column in data_train_clean:\n",
    "    cleanData = dropNanOnCol(data_train_clean, column)\n",
    "    if (column in changeWithMean) :\n",
    "        replacer.append(cleanData.median()[column])\n",
    "#         replacer.append(np.asarray(cleanData.loc[:,column], dtype=np.float).mean())\n",
    "    else :\n",
    "        replacer.append(cleanData.mode()[column])\n",
    "      \n",
    "# special case\n",
    "replacer[10] = replacer[10][0]"
   ]
  },
  {
   "cell_type": "code",
   "execution_count": 11,
   "metadata": {},
   "outputs": [
    {
     "data": {
      "text/plain": [
       "14"
      ]
     },
     "execution_count": 11,
     "metadata": {},
     "output_type": "execute_result"
    }
   ],
   "source": [
    "len(replacer)"
   ]
  },
  {
   "cell_type": "markdown",
   "metadata": {},
   "source": [
    "Mengisi nilai data"
   ]
  },
  {
   "cell_type": "code",
   "execution_count": 12,
   "metadata": {},
   "outputs": [],
   "source": [
    "i = 0\n",
    "for column in data_train_clean:\n",
    "    for index, row in data_train_clean.iterrows():\n",
    "        if (row[column] == \"?\") :\n",
    "            if (type(replacer[i]) != str) : \n",
    "                data_train_clean.at[index, column] = replacer[i].item()\n",
    "            else :\n",
    "                data_train_clean.at[index, column] = replacer[i]\n",
    "    i += 1\n"
   ]
  },
  {
   "cell_type": "markdown",
   "metadata": {},
   "source": [
    "#### Mengabaikan kolom 12 dan 13"
   ]
  },
  {
   "cell_type": "markdown",
   "metadata": {},
   "source": [
    "Berdasarkan perhitungan missing value per kolom seperti yang dapat dilihat di atas dapat diketahui bahwa kolom 12 dan kolom 13 memiliki persentase masing-masing 52 persen dan 65 persen sehingga dianggap memiliki bias yang cukup tinggi karena lebih dari setengah dari total data merupakan missing value. Dapat diambil kesimpulan bahwa kolom 12 dan 13 dapat dihilangkan dengan melakukan drop terhadap kedua kolom tersebut."
   ]
  },
  {
   "cell_type": "code",
   "execution_count": 13,
   "metadata": {},
   "outputs": [],
   "source": [
    "data_train_clean.drop(['Column12', 'Column13'],axis=1, inplace=True)"
   ]
  },
  {
   "cell_type": "code",
   "execution_count": 14,
   "metadata": {},
   "outputs": [],
   "source": [
    "# use pd.concat to join the new columns with your original dataframe\n",
    "data_train_ready = pd.concat([data_train_clean,pd.get_dummies(data_train_clean['Column3'], prefix='Column3')],axis=1)\n",
    "data_train_ready = pd.concat([data_train_ready,pd.get_dummies(data_train_clean['Column7'], prefix='Column7')],axis=1)\n",
    "data_train_ready = pd.concat([data_train_ready,pd.get_dummies(data_train_clean['Column11'], prefix='Column11')],axis=1)\n",
    "\n",
    "#delete unused column\n",
    "data_train_ready.drop(['Column3'],axis=1, inplace=True)\n",
    "data_train_ready.drop(['Column7'],axis=1, inplace=True)\n",
    "data_train_ready.drop(['Column11'],axis=1, inplace=True)"
   ]
  },
  {
   "cell_type": "code",
   "execution_count": 15,
   "metadata": {},
   "outputs": [
    {
     "data": {
      "text/plain": [
       "0    349\n",
       "1    225\n",
       "2     92\n",
       "3     90\n",
       "4     23\n",
       "Name: Column14, dtype: int64"
      ]
     },
     "execution_count": 15,
     "metadata": {},
     "output_type": "execute_result"
    }
   ],
   "source": [
    "data_train_ready['Column14'].value_counts()"
   ]
  },
  {
   "cell_type": "markdown",
   "metadata": {},
   "source": [
    "## 2. Eksperimen"
   ]
  },
  {
   "cell_type": "markdown",
   "metadata": {},
   "source": [
    "#### Import modul terkait splitting data"
   ]
  },
  {
   "cell_type": "code",
   "execution_count": 16,
   "metadata": {},
   "outputs": [],
   "source": [
    "from sklearn.model_selection import train_test_split"
   ]
  },
  {
   "cell_type": "markdown",
   "metadata": {},
   "source": [
    "#### Fungsi penilaian"
   ]
  },
  {
   "cell_type": "code",
   "execution_count": 17,
   "metadata": {},
   "outputs": [],
   "source": [
    "from sklearn.metrics import confusion_matrix \n",
    "from sklearn.metrics import accuracy_score \n",
    "from sklearn.metrics import classification_report \n",
    "\n",
    "def cal_accuracy(y_test, y_pred): \n",
    "      \n",
    "    print(\"Confusion Matrix: \\n\", \n",
    "        confusion_matrix(y_test, y_pred)) \n",
    "      \n",
    "    print (\"Accuracy : \\n\", \n",
    "    accuracy_score(y_test,y_pred)*100) \n",
    "    print(\"Report : \\n\", \n",
    "    classification_report(y_test, y_pred)) "
   ]
  },
  {
   "cell_type": "markdown",
   "metadata": {},
   "source": [
    "#### Pemotongan data training dan data testing"
   ]
  },
  {
   "cell_type": "code",
   "execution_count": 18,
   "metadata": {},
   "outputs": [],
   "source": [
    "data = data_train_ready.drop(columns=['Column14'])\n",
    "target = data_train_ready['Column14']\n",
    "\n",
    "data_train, data_test, target_train, target_test = train_test_split(data, target, test_size = 0.3, random_state = 100)"
   ]
  },
  {
   "cell_type": "code",
   "execution_count": 19,
   "metadata": {},
   "outputs": [
    {
     "data": {
      "text/html": [
       "<div>\n",
       "<style scoped>\n",
       "    .dataframe tbody tr th:only-of-type {\n",
       "        vertical-align: middle;\n",
       "    }\n",
       "\n",
       "    .dataframe tbody tr th {\n",
       "        vertical-align: top;\n",
       "    }\n",
       "\n",
       "    .dataframe thead th {\n",
       "        text-align: right;\n",
       "    }\n",
       "</style>\n",
       "<table border=\"1\" class=\"dataframe\">\n",
       "  <thead>\n",
       "    <tr style=\"text-align: right;\">\n",
       "      <th></th>\n",
       "      <th>Column1</th>\n",
       "      <th>Column2</th>\n",
       "      <th>Column4</th>\n",
       "      <th>Column5</th>\n",
       "      <th>Column6</th>\n",
       "      <th>Column8</th>\n",
       "      <th>Column9</th>\n",
       "      <th>Column10</th>\n",
       "      <th>Column3_1</th>\n",
       "      <th>Column3_2</th>\n",
       "      <th>Column3_3</th>\n",
       "      <th>Column3_4</th>\n",
       "      <th>Column7_0</th>\n",
       "      <th>Column7_1</th>\n",
       "      <th>Column7_2</th>\n",
       "      <th>Column11_1</th>\n",
       "      <th>Column11_2</th>\n",
       "      <th>Column11_3</th>\n",
       "    </tr>\n",
       "  </thead>\n",
       "  <tbody>\n",
       "    <tr>\n",
       "      <th>299</th>\n",
       "      <td>50</td>\n",
       "      <td>0</td>\n",
       "      <td>160</td>\n",
       "      <td>0</td>\n",
       "      <td>0</td>\n",
       "      <td>110</td>\n",
       "      <td>0</td>\n",
       "      <td>0</td>\n",
       "      <td>0</td>\n",
       "      <td>0</td>\n",
       "      <td>0</td>\n",
       "      <td>1</td>\n",
       "      <td>1</td>\n",
       "      <td>0</td>\n",
       "      <td>0</td>\n",
       "      <td>0</td>\n",
       "      <td>1</td>\n",
       "      <td>0</td>\n",
       "    </tr>\n",
       "    <tr>\n",
       "      <th>339</th>\n",
       "      <td>57</td>\n",
       "      <td>1</td>\n",
       "      <td>130</td>\n",
       "      <td>311</td>\n",
       "      <td>0</td>\n",
       "      <td>148</td>\n",
       "      <td>1</td>\n",
       "      <td>2</td>\n",
       "      <td>0</td>\n",
       "      <td>0</td>\n",
       "      <td>0</td>\n",
       "      <td>1</td>\n",
       "      <td>0</td>\n",
       "      <td>1</td>\n",
       "      <td>0</td>\n",
       "      <td>0</td>\n",
       "      <td>1</td>\n",
       "      <td>0</td>\n",
       "    </tr>\n",
       "    <tr>\n",
       "      <th>320</th>\n",
       "      <td>59</td>\n",
       "      <td>1</td>\n",
       "      <td>135</td>\n",
       "      <td>234</td>\n",
       "      <td>0</td>\n",
       "      <td>161</td>\n",
       "      <td>0</td>\n",
       "      <td>5</td>\n",
       "      <td>0</td>\n",
       "      <td>0</td>\n",
       "      <td>0</td>\n",
       "      <td>1</td>\n",
       "      <td>1</td>\n",
       "      <td>0</td>\n",
       "      <td>0</td>\n",
       "      <td>0</td>\n",
       "      <td>1</td>\n",
       "      <td>0</td>\n",
       "    </tr>\n",
       "    <tr>\n",
       "      <th>586</th>\n",
       "      <td>60</td>\n",
       "      <td>1</td>\n",
       "      <td>100</td>\n",
       "      <td>248</td>\n",
       "      <td>0</td>\n",
       "      <td>125</td>\n",
       "      <td>0</td>\n",
       "      <td>1</td>\n",
       "      <td>0</td>\n",
       "      <td>0</td>\n",
       "      <td>0</td>\n",
       "      <td>1</td>\n",
       "      <td>1</td>\n",
       "      <td>0</td>\n",
       "      <td>0</td>\n",
       "      <td>0</td>\n",
       "      <td>1</td>\n",
       "      <td>0</td>\n",
       "    </tr>\n",
       "    <tr>\n",
       "      <th>689</th>\n",
       "      <td>58</td>\n",
       "      <td>1</td>\n",
       "      <td>140</td>\n",
       "      <td>211</td>\n",
       "      <td>1</td>\n",
       "      <td>165</td>\n",
       "      <td>0</td>\n",
       "      <td>0</td>\n",
       "      <td>0</td>\n",
       "      <td>0</td>\n",
       "      <td>1</td>\n",
       "      <td>0</td>\n",
       "      <td>0</td>\n",
       "      <td>0</td>\n",
       "      <td>1</td>\n",
       "      <td>1</td>\n",
       "      <td>0</td>\n",
       "      <td>0</td>\n",
       "    </tr>\n",
       "  </tbody>\n",
       "</table>\n",
       "</div>"
      ],
      "text/plain": [
       "     Column1  Column2 Column4 Column5 Column6 Column8 Column9 Column10  \\\n",
       "299       50        0     160       0       0     110       0        0   \n",
       "339       57        1     130     311       0     148       1        2   \n",
       "320       59        1     135     234       0     161       0        5   \n",
       "586       60        1     100     248       0     125       0        1   \n",
       "689       58        1     140     211       1     165       0        0   \n",
       "\n",
       "     Column3_1  Column3_2  Column3_3  Column3_4  Column7_0  Column7_1  \\\n",
       "299          0          0          0          1          1          0   \n",
       "339          0          0          0          1          0          1   \n",
       "320          0          0          0          1          1          0   \n",
       "586          0          0          0          1          1          0   \n",
       "689          0          0          1          0          0          0   \n",
       "\n",
       "     Column7_2  Column11_1  Column11_2  Column11_3  \n",
       "299          0           0           1           0  \n",
       "339          0           0           1           0  \n",
       "320          0           0           1           0  \n",
       "586          0           0           1           0  \n",
       "689          1           1           0           0  "
      ]
     },
     "execution_count": 19,
     "metadata": {},
     "output_type": "execute_result"
    }
   ],
   "source": [
    "data_test.head()"
   ]
  },
  {
   "cell_type": "markdown",
   "metadata": {},
   "source": [
    "### Naive Bayes"
   ]
  },
  {
   "cell_type": "code",
   "execution_count": 20,
   "metadata": {},
   "outputs": [
    {
     "name": "stdout",
     "output_type": "stream",
     "text": [
      "Confusion Matrix: \n",
      " [[84 15  3  1 15]\n",
      " [12 32  5  3 16]\n",
      " [ 2  6  2  4 10]\n",
      " [ 1  4  5  2  8]\n",
      " [ 1  1  0  1  1]]\n",
      "Accuracy : \n",
      " 51.70940170940172\n",
      "Report : \n",
      "              precision    recall  f1-score   support\n",
      "\n",
      "          0       0.84      0.71      0.77       118\n",
      "          1       0.55      0.47      0.51        68\n",
      "          2       0.13      0.08      0.10        24\n",
      "          3       0.18      0.10      0.13        20\n",
      "          4       0.02      0.25      0.04         4\n",
      "\n",
      "avg / total       0.61      0.52      0.56       234\n",
      "\n"
     ]
    }
   ],
   "source": [
    "from sklearn.naive_bayes import GaussianNB\n",
    "gnb = GaussianNB()\n",
    "\n",
    "model_gnb = gnb.fit(data_train, target_train)\n",
    "y_pred = model_gnb.predict(data_test)\n",
    "\n",
    "cal_accuracy(target_test, y_pred)"
   ]
  },
  {
   "cell_type": "markdown",
   "metadata": {},
   "source": [
    "### kNN"
   ]
  },
  {
   "cell_type": "code",
   "execution_count": 21,
   "metadata": {},
   "outputs": [
    {
     "name": "stdout",
     "output_type": "stream",
     "text": [
      "Confusion Matrix: \n",
      " [[87 24  3  3  1]\n",
      " [34 27  3  4  0]\n",
      " [ 8  7  6  3  0]\n",
      " [ 8  7  2  3  0]\n",
      " [ 0  2  2  0  0]]\n",
      "Accuracy : \n",
      " 52.56410256410257\n",
      "Report : \n",
      "              precision    recall  f1-score   support\n",
      "\n",
      "          0       0.64      0.74      0.68       118\n",
      "          1       0.40      0.40      0.40        68\n",
      "          2       0.38      0.25      0.30        24\n",
      "          3       0.23      0.15      0.18        20\n",
      "          4       0.00      0.00      0.00         4\n",
      "\n",
      "avg / total       0.50      0.53      0.51       234\n",
      "\n"
     ]
    }
   ],
   "source": [
    "from sklearn import neighbors\n",
    "import matplotlib.pyplot as plt\n",
    "from matplotlib.colors import ListedColormap\n",
    "from sklearn.manifold import Isomap\n",
    "\n",
    "n_neighbors = 15\n",
    "\n",
    "# compressing all the features into two features\n",
    "iso = Isomap(n_components=2)\n",
    "projected = iso.fit_transform(data)\n",
    "X = projected\n",
    "y = target\n",
    "\n",
    "X_train, X_test, y_train, y_test = train_test_split(X, y, test_size = 0.3, random_state = 100)\n",
    "\n",
    "h = .02  # step size in the mesh\n",
    "\n",
    "model_knc = neighbors.KNeighborsClassifier(n_neighbors, weights='distance')\n",
    "model_knc.fit(X_train, y_train)\n",
    "y_pred = model_knc.predict(X_test)\n",
    "\n",
    "cal_accuracy(y_test, y_pred)"
   ]
  },
  {
   "cell_type": "markdown",
   "metadata": {},
   "source": [
    "#### Cross Validation"
   ]
  },
  {
   "cell_type": "markdown",
   "metadata": {},
   "source": [
    "##### N Neighbors"
   ]
  },
  {
   "cell_type": "code",
   "execution_count": 22,
   "metadata": {},
   "outputs": [
    {
     "data": {
      "image/png": "[encoded data removed]",
      "text/plain": [
       "<Figure size 432x288 with 1 Axes>"
      ]
     },
     "metadata": {},
     "output_type": "display_data"
    }
   ],
   "source": [
    "# Testing on Decision Tree variable\n",
    "from sklearn.model_selection import validation_curve\n",
    "param_range = np.arange(2,100)\n",
    "train_scores, test_scores = validation_curve(\n",
    "    neighbors.KNeighborsClassifier(), \n",
    "    X, \n",
    "    y,  \n",
    "    \"n_neighbors\",\n",
    "    param_range,\n",
    "    cv=10\n",
    ")\n",
    "\n",
    "train_scores_mean = np.mean(train_scores, axis=1)\n",
    "train_scores_std = np.std(train_scores, axis=1)\n",
    "test_scores_mean = np.mean(test_scores, axis=1)\n",
    "test_scores_std = np.std(test_scores, axis=1)\n",
    "\n",
    "plt.title(\"Fitting graph with min sample split as variable\")\n",
    "plt.xlabel(\"min sample split\")\n",
    "plt.ylabel(\"accuracy\")\n",
    "lw = 2\n",
    "plt.plot(param_range, train_scores_mean, label=\"Training score\",\n",
    "             color=\"darkorange\", lw=lw)\n",
    "plt.fill_between(param_range, train_scores_mean - train_scores_std,\n",
    "                 train_scores_mean + train_scores_std, alpha=0.2,\n",
    "                 color=\"darkorange\", lw=lw)\n",
    "plt.plot(param_range, test_scores_mean, label=\"Cross-validation score\",\n",
    "             color=\"navy\", lw=lw)\n",
    "plt.fill_between(param_range, test_scores_mean - test_scores_std,\n",
    "                 test_scores_mean + test_scores_std, alpha=0.2,\n",
    "                 color=\"navy\", lw=lw)\n",
    "plt.legend(loc=\"best\")\n",
    "plt.show()"
   ]
  },
  {
   "cell_type": "markdown",
   "metadata": {},
   "source": [
    "Hasilnya memperlihatkan bahwa untuk variabel n neighbor paling optimal untuk nilai 20."
   ]
  },
  {
   "cell_type": "markdown",
   "metadata": {},
   "source": [
    "#### Final Model"
   ]
  },
  {
   "cell_type": "code",
   "execution_count": 23,
   "metadata": {},
   "outputs": [
    {
     "name": "stdout",
     "output_type": "stream",
     "text": [
      "Confusion Matrix: \n",
      " [[92 20  3  2  1]\n",
      " [39 21  2  6  0]\n",
      " [ 8  8  5  3  0]\n",
      " [ 8  7  2  3  0]\n",
      " [ 0  2  2  0  0]]\n",
      "Accuracy : \n",
      " 51.70940170940172\n",
      "Report : \n",
      "              precision    recall  f1-score   support\n",
      "\n",
      "          0       0.63      0.78      0.69       118\n",
      "          1       0.36      0.31      0.33        68\n",
      "          2       0.36      0.21      0.26        24\n",
      "          3       0.21      0.15      0.18        20\n",
      "          4       0.00      0.00      0.00         4\n",
      "\n",
      "avg / total       0.48      0.52      0.49       234\n",
      "\n"
     ]
    }
   ],
   "source": [
    "model_knc = neighbors.KNeighborsClassifier(n_neighbors=20, weights='distance', algorithm='kd_tree')\n",
    "model_knc.fit(X_train, y_train)\n",
    "y_pred = model_knc.predict(X_test)\n",
    "\n",
    "cal_accuracy(y_test, y_pred)"
   ]
  },
  {
   "cell_type": "markdown",
   "metadata": {},
   "source": [
    "### Decision Tree"
   ]
  },
  {
   "cell_type": "code",
   "execution_count": 24,
   "metadata": {},
   "outputs": [
    {
     "name": "stdout",
     "output_type": "stream",
     "text": [
      "Confusion Matrix: \n",
      " [[82 25 10  1  0]\n",
      " [18 32  8 10  0]\n",
      " [ 6  7  8  3  0]\n",
      " [ 5  6  5  4  0]\n",
      " [ 1  0  2  1  0]]\n",
      "Accuracy : \n",
      " 53.84615384615385\n",
      "Report : \n",
      "              precision    recall  f1-score   support\n",
      "\n",
      "          0       0.73      0.69      0.71       118\n",
      "          1       0.46      0.47      0.46        68\n",
      "          2       0.24      0.33      0.28        24\n",
      "          3       0.21      0.20      0.21        20\n",
      "          4       0.00      0.00      0.00         4\n",
      "\n",
      "avg / total       0.54      0.54      0.54       234\n",
      "\n"
     ]
    },
    {
     "name": "stderr",
     "output_type": "stream",
     "text": [
      "/home/thareqyusuf/anaconda3/lib/python3.6/site-packages/sklearn/metrics/classification.py:1135: UndefinedMetricWarning: Precision and F-score are ill-defined and being set to 0.0 in labels with no predicted samples.\n",
      "  'precision', 'predicted', average, warn_for)\n"
     ]
    }
   ],
   "source": [
    "from sklearn import tree\n",
    "dtc = tree.DecisionTreeClassifier(criterion=\"gini\",min_samples_leaf=5)\n",
    "\n",
    "model_dtc = dtc.fit(data_train, target_train)\n",
    "y_pred = model_dtc.predict(data_test)\n",
    "\n",
    "cal_accuracy(target_test, y_pred)"
   ]
  },
  {
   "cell_type": "markdown",
   "metadata": {},
   "source": [
    "#### Cross Validation"
   ]
  },
  {
   "cell_type": "markdown",
   "metadata": {},
   "source": [
    "##### Min Samples Split"
   ]
  },
  {
   "cell_type": "code",
   "execution_count": 25,
   "metadata": {},
   "outputs": [
    {
     "data": {
      "image/png": "[encoded data removed]",
      "text/plain": [
       "<Figure size 432x288 with 1 Axes>"
      ]
     },
     "metadata": {},
     "output_type": "display_data"
    }
   ],
   "source": [
    "# Testing on Decision Tree variable\n",
    "from sklearn.model_selection import validation_curve\n",
    "param_range = np.arange(2,150)\n",
    "train_scores, test_scores = validation_curve(\n",
    "    DecisionTreeClassifier(), \n",
    "    data, \n",
    "    target,  \n",
    "    \"min_samples_split\",\n",
    "    param_range,\n",
    "    cv=10\n",
    ")\n",
    "\n",
    "train_scores_mean = np.mean(train_scores, axis=1)\n",
    "train_scores_std = np.std(train_scores, axis=1)\n",
    "test_scores_mean = np.mean(test_scores, axis=1)\n",
    "test_scores_std = np.std(test_scores, axis=1)\n",
    "\n",
    "plt.title(\"Fitting graph with min sample split as variable\")\n",
    "plt.xlabel(\"min sample split\")\n",
    "plt.ylabel(\"accuracy\")\n",
    "lw = 2\n",
    "plt.plot(param_range, train_scores_mean, label=\"Training score\",\n",
    "             color=\"darkorange\", lw=lw)\n",
    "plt.fill_between(param_range, train_scores_mean - train_scores_std,\n",
    "                 train_scores_mean + train_scores_std, alpha=0.2,\n",
    "                 color=\"darkorange\", lw=lw)\n",
    "plt.plot(param_range, test_scores_mean, label=\"Cross-validation score\",\n",
    "             color=\"navy\", lw=lw)\n",
    "plt.fill_between(param_range, test_scores_mean - test_scores_std,\n",
    "                 test_scores_mean + test_scores_std, alpha=0.2,\n",
    "                 color=\"navy\", lw=lw)\n",
    "plt.legend(loc=\"best\")\n",
    "plt.show()"
   ]
  },
  {
   "cell_type": "markdown",
   "metadata": {},
   "source": [
    "Hasilnya memperlihatkan bahwa untuk variabel min sample split paling optimal untuk nilai 80."
   ]
  },
  {
   "cell_type": "markdown",
   "metadata": {},
   "source": [
    "##### Min Samples Leaf"
   ]
  },
  {
   "cell_type": "code",
   "execution_count": 26,
   "metadata": {},
   "outputs": [
    {
     "data": {
      "image/png": "[encoded data removed]",
      "text/plain": [
       "<Figure size 432x288 with 1 Axes>"
      ]
     },
     "metadata": {},
     "output_type": "display_data"
    }
   ],
   "source": [
    "# Testing on Decision Tree variable\n",
    "from sklearn.model_selection import validation_curve\n",
    "param_range = np.arange(2,80)\n",
    "train_scores, test_scores = validation_curve(\n",
    "    DecisionTreeClassifier(), \n",
    "    data, \n",
    "    target,  \n",
    "    \"min_samples_leaf\",\n",
    "    param_range,\n",
    "    cv=10\n",
    ")\n",
    "\n",
    "train_scores_mean = np.mean(train_scores, axis=1)\n",
    "train_scores_std = np.std(train_scores, axis=1)\n",
    "test_scores_mean = np.mean(test_scores, axis=1)\n",
    "test_scores_std = np.std(test_scores, axis=1)\n",
    "\n",
    "plt.title(\"Fitting graph with min sample leaf as variable\")\n",
    "plt.xlabel(\"min sample leaf\")\n",
    "plt.ylabel(\"accuracy\")\n",
    "lw = 2\n",
    "plt.plot(param_range, train_scores_mean, label=\"Training score\",\n",
    "             color=\"darkorange\", lw=lw)\n",
    "plt.fill_between(param_range, train_scores_mean - train_scores_std,\n",
    "                 train_scores_mean + train_scores_std, alpha=0.2,\n",
    "                 color=\"darkorange\", lw=lw)\n",
    "plt.plot(param_range, test_scores_mean, label=\"Cross-validation score\",\n",
    "             color=\"navy\", lw=lw)\n",
    "plt.fill_between(param_range, test_scores_mean - test_scores_std,\n",
    "                 test_scores_mean + test_scores_std, alpha=0.2,\n",
    "                 color=\"navy\", lw=lw)\n",
    "plt.legend(loc=\"best\")\n",
    "plt.show()"
   ]
  },
  {
   "cell_type": "markdown",
   "metadata": {},
   "source": [
    "Hasilnya memperlihatkan bahwa untuk variabel min sample leaf paling optimal untuk nilai 40."
   ]
  },
  {
   "cell_type": "markdown",
   "metadata": {},
   "source": [
    "#### Final Model"
   ]
  },
  {
   "cell_type": "code",
   "execution_count": 27,
   "metadata": {},
   "outputs": [
    {
     "name": "stdout",
     "output_type": "stream",
     "text": [
      "Confusion Matrix: \n",
      " [[99 15  4  0  0]\n",
      " [18 47  3  0  0]\n",
      " [ 7 14  3  0  0]\n",
      " [ 6  9  5  0  0]\n",
      " [ 0  3  1  0  0]]\n",
      "Accuracy : \n",
      " 63.67521367521367\n",
      "Report : \n",
      "              precision    recall  f1-score   support\n",
      "\n",
      "          0       0.76      0.84      0.80       118\n",
      "          1       0.53      0.69      0.60        68\n",
      "          2       0.19      0.12      0.15        24\n",
      "          3       0.00      0.00      0.00        20\n",
      "          4       0.00      0.00      0.00         4\n",
      "\n",
      "avg / total       0.56      0.64      0.59       234\n",
      "\n"
     ]
    },
    {
     "name": "stderr",
     "output_type": "stream",
     "text": [
      "/home/thareqyusuf/anaconda3/lib/python3.6/site-packages/sklearn/metrics/classification.py:1135: UndefinedMetricWarning: Precision and F-score are ill-defined and being set to 0.0 in labels with no predicted samples.\n",
      "  'precision', 'predicted', average, warn_for)\n"
     ]
    }
   ],
   "source": [
    "from sklearn import tree\n",
    "dtc = tree.DecisionTreeClassifier(criterion=\"gini\", min_samples_leaf=40, min_samples_split=80)\n",
    "\n",
    "model_dtc = dtc.fit(data_train, target_train)\n",
    "y_pred = model_dtc.predict(data_test)\n",
    "\n",
    "cal_accuracy(target_test, y_pred)"
   ]
  },
  {
   "cell_type": "markdown",
   "metadata": {},
   "source": [
    "### Neural Network MLP"
   ]
  },
  {
   "cell_type": "code",
   "execution_count": 28,
   "metadata": {},
   "outputs": [
    {
     "name": "stdout",
     "output_type": "stream",
     "text": [
      "Confusion Matrix: \n",
      " [[94 14  5  5  0]\n",
      " [27 24  7  9  1]\n",
      " [ 7 10  4  3  0]\n",
      " [ 6  8  3  3  0]\n",
      " [ 1  1  1  1  0]]\n",
      "Accuracy : \n",
      " 53.41880341880342\n",
      "Report : \n",
      "              precision    recall  f1-score   support\n",
      "\n",
      "          0       0.70      0.80      0.74       118\n",
      "          1       0.42      0.35      0.38        68\n",
      "          2       0.20      0.17      0.18        24\n",
      "          3       0.14      0.15      0.15        20\n",
      "          4       0.00      0.00      0.00         4\n",
      "\n",
      "avg / total       0.51      0.53      0.52       234\n",
      "\n"
     ]
    }
   ],
   "source": [
    "from sklearn.neural_network import MLPClassifier\n",
    "\n",
    "mlp = MLPClassifier(activation='relu', hidden_layer_sizes=(120, 30), solver='lbfgs')\n",
    "\n",
    "model_mlp = mlp.fit(data_train, target_train)\n",
    "y_pred = model_mlp.predict(data_test)\n",
    "\n",
    "cal_accuracy(target_test, y_pred)"
   ]
  },
  {
   "cell_type": "markdown",
   "metadata": {},
   "source": [
    "#### Cross Validation"
   ]
  },
  {
   "cell_type": "markdown",
   "metadata": {},
   "source": [
    "##### Hidden Layer Sizes"
   ]
  },
  {
   "cell_type": "code",
   "execution_count": null,
   "metadata": {},
   "outputs": [],
   "source": [
    "# Testing on Decision Tree variable\n",
    "from sklearn.model_selection import validation_curve\n",
    "\n",
    "param_range = []\n",
    "param = []\n",
    "for i in range (50) :\n",
    "    param_range.append(((i*10)+50, 30))\n",
    "    param.append((i*10)+50)\n",
    "    \n",
    "train_scores, test_scores = validation_curve(\n",
    "    MLPClassifier(), \n",
    "    data, \n",
    "    target,  \n",
    "    \"hidden_layer_sizes\",\n",
    "    param_range,\n",
    "    cv=5\n",
    ")\n",
    "\n",
    "train_scores_mean = np.mean(train_scores, axis=1)\n",
    "train_scores_std = np.std(train_scores, axis=1)\n",
    "test_scores_mean = np.mean(test_scores, axis=1)\n",
    "test_scores_std = np.std(test_scores, axis=1)\n",
    "\n",
    "plt.title(\"Fitting graph with hidden layer sizes as variable\")\n",
    "plt.xlabel(\"hidden layer sizes\")\n",
    "plt.ylabel(\"accuracy\")\n",
    "lw = 2\n",
    "plt.plot(param, train_scores_mean, label=\"Training score\",\n",
    "             color=\"darkorange\", lw=lw)\n",
    "plt.fill_between(param, train_scores_mean - train_scores_std,\n",
    "                 train_scores_mean + train_scores_std, alpha=0.2,\n",
    "                 color=\"darkorange\", lw=lw)\n",
    "plt.plot(param, test_scores_mean, label=\"Cross-validation score\",\n",
    "             color=\"navy\", lw=lw)\n",
    "plt.fill_between(param, test_scores_mean - test_scores_std,\n",
    "                 test_scores_mean + test_scores_std, alpha=0.2,\n",
    "                 color=\"navy\", lw=lw)\n",
    "plt.legend(loc=\"best\")\n",
    "plt.show()"
   ]
  },
  {
   "cell_type": "markdown",
   "metadata": {},
   "source": [
    "Hasilnya memperlihatkan bahwa untuk variabel hidden layer sizes bagian pertama tidak terlalu berbeda untuk value pada range 100-600."
   ]
  },
  {
   "cell_type": "code",
   "execution_count": null,
   "metadata": {},
   "outputs": [],
   "source": [
    "# Testing on Decision Tree variable\n",
    "from sklearn.model_selection import validation_curve\n",
    "\n",
    "param_range = []\n",
    "param = []\n",
    "for i in range (50) :\n",
    "    param_range.append((380, (i*2)+20))\n",
    "    param.append((i*2)+20)\n",
    "    \n",
    "train_scores, test_scores = validation_curve(\n",
    "    MLPClassifier(), \n",
    "    data, \n",
    "    target,  \n",
    "    \"hidden_layer_sizes\",\n",
    "    param_range,\n",
    "    cv=5\n",
    ")\n",
    "\n",
    "train_scores_mean = np.mean(train_scores, axis=1)\n",
    "train_scores_std = np.std(train_scores, axis=1)\n",
    "test_scores_mean = np.mean(test_scores, axis=1)\n",
    "test_scores_std = np.std(test_scores, axis=1)\n",
    "\n",
    "plt.title(\"Fitting graph with hidden layer sizes as variable\")\n",
    "plt.xlabel(\"hidden layer sizes\")\n",
    "plt.ylabel(\"accuracy\")\n",
    "lw = 2\n",
    "plt.plot(param, train_scores_mean, label=\"Training score\",\n",
    "             color=\"darkorange\", lw=lw)\n",
    "plt.fill_between(param, train_scores_mean - train_scores_std,\n",
    "                 train_scores_mean + train_scores_std, alpha=0.2,\n",
    "                 color=\"darkorange\", lw=lw)\n",
    "plt.plot(param, test_scores_mean, label=\"Cross-validation score\",\n",
    "             color=\"navy\", lw=lw)\n",
    "plt.fill_between(param, test_scores_mean - test_scores_std,\n",
    "                 test_scores_mean + test_scores_std, alpha=0.2,\n",
    "                 color=\"navy\", lw=lw)\n",
    "plt.legend(loc=\"best\")\n",
    "plt.show()"
   ]
  },
  {
   "cell_type": "markdown",
   "metadata": {},
   "source": [
    "Hasilnya memperlihatkan bahwa untuk variabel hidden layer sizes bagian kedua tidak terlalu berbeda untuk value pada range 20-120."
   ]
  },
  {
   "cell_type": "markdown",
   "metadata": {},
   "source": [
    "#### Final Model"
   ]
  },
  {
   "cell_type": "code",
   "execution_count": null,
   "metadata": {},
   "outputs": [],
   "source": [
    "from sklearn.neural_network import MLPClassifier\n",
    "\n",
    "mlp = MLPClassifier(activation='relu', hidden_layer_sizes=(380, 28), solver='lbfgs')\n",
    "\n",
    "model_mlp = mlp.fit(data_train, target_train)\n",
    "y_pred = model_mlp.predict(data_test)\n",
    "\n",
    "cal_accuracy(target_test, y_pred)"
   ]
  },
  {
   "cell_type": "markdown",
   "metadata": {},
   "source": [
    "#### Penjelasan Error"
   ]
  },
  {
   "cell_type": "markdown",
   "metadata": {},
   "source": [
    "Error terjadi akibat saat split test, testing data tidak ada yang berlabel '4'. Hal ini mengakibatkan rumus f1-score tidak valid dan menghasilkan error. Melihat hal ini, tentu saja error yang sama terjadi pada setiap pegukuran akurasi setiap model.\n",
    "\n",
    "Untuk menanggulangi hal ini, kelompok kami menyarankan untuk menambahi data agar merata antara jumlah data berlabel '0', '1', '2', '3' dan '4' terutama data berlabel '4' sendiri."
   ]
  },
  {
   "cell_type": "markdown",
   "metadata": {},
   "source": [
    "###### Jumlah Data Masing-masing Label"
   ]
  },
  {
   "cell_type": "code",
   "execution_count": null,
   "metadata": {},
   "outputs": [],
   "source": [
    "target_count = [0 for i in range (5)]\n",
    "for label in target :\n",
    "    target_count[label] += 1\n",
    "\n",
    "for i in range (5) :\n",
    "    print(\"Data berlabel '\", i, \"' berjumlah \", target_count[i], sep=\"\")"
   ]
  },
  {
   "cell_type": "markdown",
   "metadata": {},
   "source": [
    "###### Kesimpulan"
   ]
  },
  {
   "cell_type": "markdown",
   "metadata": {},
   "source": [
    "Berdasarkan hasil eksplorasi yang kami lakukan di atas, didapatkan bahwa model yang menggunakan Decision Tree Classifier memiliki akurasi paling tinggi yaitu akurasi 58-63 persen. Hal ini bersifat dinamis berdasarkan dari pemilihan data training dan data testing pada saat split data. Menurut kami, algoritma Decision Tree Classifier memiliki parameter yang paling banyak dibandingkan algoritma lain sehingga lebih mudah untuk menghindari model yang overfitting atau underfitting."
   ]
  },
  {
   "cell_type": "markdown",
   "metadata": {},
   "source": [
    "## 3. Penyimpanan dan Load Model"
   ]
  },
  {
   "cell_type": "markdown",
   "metadata": {},
   "source": [
    "Save Model"
   ]
  },
  {
   "cell_type": "code",
   "execution_count": null,
   "metadata": {},
   "outputs": [],
   "source": [
    "#Menyimpan Naive Bayes Model\n",
    "filename = 'nb_model.sav'\n",
    "pickle.dump(gnb, open(filename, 'wb'))\n",
    "\n",
    "#Menyimpan kNN Model\n",
    "filename = 'knn_model.sav'\n",
    "pickle.dump(model_knc, open(filename, 'wb'))\n",
    "\n",
    "#Menyimpan Desicion Tree Mode\n",
    "filename = 'dt_model.sav'\n",
    "pickle.dump(dtc, open(filename, 'wb'))\n",
    "\n",
    "#Menyimpan Neural Network MLP\n",
    "filename = 'nnmlp_model.sav'\n",
    "pickle.dump(mlp, open(filename, 'wb'))"
   ]
  },
  {
   "cell_type": "markdown",
   "metadata": {},
   "source": [
    "Load Model"
   ]
  },
  {
   "cell_type": "code",
   "execution_count": null,
   "metadata": {},
   "outputs": [],
   "source": [
    "#Memuat Naive Bayes Model\n",
    "filename = 'nb_model.sav'\n",
    "NaiveBayesModel = pickle.load(open(filename, 'rb'))\n",
    "\n",
    "#Memuat kNN Model\n",
    "filename = 'knn_model.sav'\n",
    "kNNModel = pickle.load(open(filename, 'rb'))\n",
    "\n",
    "#Memuat Desicion Tree Model\n",
    "filename = 'dt_model.sav'\n",
    "DesicionTreeModel = pickle.load(open(filename, 'rb'))\n",
    "\n",
    "#Memuat Neural Network MLP\n",
    "filename = 'nnmlp_model.sav'\n",
    "NeuralNetworkMLPModel = pickle.load(open(filename, 'rb'))"
   ]
  },
  {
   "cell_type": "markdown",
   "metadata": {},
   "source": [
    "## 4. Pemakaian Model pada Data Test"
   ]
  },
  {
   "cell_type": "markdown",
   "metadata": {},
   "source": [
    "Mengisi missing data dengan data yang sama dengan yang diatas"
   ]
  },
  {
   "cell_type": "code",
   "execution_count": null,
   "metadata": {},
   "outputs": [],
   "source": [
    "data_test = pd.read_csv(\"tubes2_HeartDisease_test.csv\")\n",
    "i = 0\n",
    "for column in data_test:\n",
    "    for index, row in data_test.iterrows():\n",
    "        if (row[column] == \"?\") :\n",
    "            if (type(replacer[i]) != str) : \n",
    "                data_test.at[index, column] = replacer[i].item()\n",
    "            else :\n",
    "                data_test.at[index, column] = replacer[i]\n",
    "    i += 1"
   ]
  },
  {
   "cell_type": "markdown",
   "metadata": {},
   "source": [
    "Memproses kolom agar sesuai dengan model"
   ]
  },
  {
   "cell_type": "code",
   "execution_count": null,
   "metadata": {},
   "outputs": [],
   "source": [
    "data_test.drop(['Column12', 'Column13'],axis=1, inplace=True)"
   ]
  },
  {
   "cell_type": "code",
   "execution_count": null,
   "metadata": {},
   "outputs": [],
   "source": [
    "# use pd.concat to join the new columns with your original dataframe\n",
    "data_test = pd.concat([data_test,pd.get_dummies(data_test['Column3'], prefix='Column3')],axis=1)\n",
    "data_test = pd.concat([data_test,pd.get_dummies(data_test['Column7'], prefix='Column7')],axis=1)\n",
    "data_test = pd.concat([data_test,pd.get_dummies(data_test['Column11'], prefix='Column11')],axis=1)\n",
    "\n",
    "#delete unused column\n",
    "data_test.drop(['Column3'],axis=1, inplace=True)\n",
    "data_test.drop(['Column7'],axis=1, inplace=True)\n",
    "data_test.drop(['Column11'],axis=1, inplace=True)"
   ]
  },
  {
   "cell_type": "code",
   "execution_count": null,
   "metadata": {},
   "outputs": [],
   "source": [
    "data_test.head()"
   ]
  },
  {
   "cell_type": "markdown",
   "metadata": {},
   "source": [
    "Melakukan prediksi"
   ]
  },
  {
   "cell_type": "code",
   "execution_count": null,
   "metadata": {},
   "outputs": [],
   "source": [
    "result = NaiveBayesModel.predict(data_test)"
   ]
  },
  {
   "cell_type": "markdown",
   "metadata": {},
   "source": [
    "Hasil prediksi"
   ]
  },
  {
   "cell_type": "code",
   "execution_count": null,
   "metadata": {},
   "outputs": [],
   "source": [
    "result"
   ]
  }
 ],
 "metadata": {
  "kernelspec": {
   "display_name": "Python 3",
   "language": "python",
   "name": "python3"
  },
  "language_info": {
   "codemirror_mode": {
    "name": "ipython",
    "version": 3
   },
   "file_extension": ".py",
   "mimetype": "text/x-python",
   "name": "python",
   "nbconvert_exporter": "python",
   "pygments_lexer": "ipython3",
   "version": "3.6.5"
  }
 },
 "nbformat": 4,
 "nbformat_minor": 2
}
