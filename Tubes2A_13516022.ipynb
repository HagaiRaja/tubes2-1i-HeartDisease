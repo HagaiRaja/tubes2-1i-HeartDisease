{
 "cells": [
  {
   "cell_type": "code",
   "execution_count": 195,
   "metadata": {},
   "outputs": [],
   "source": [
    "import numpy as np \n",
    "import pandas as pd \n",
    "import matplotlib.pyplot as plt\n",
    "import seaborn as sns\n",
    "import time\n",
    "import pickle\n",
    "from sklearn.model_selection import train_test_split\n",
    "from sklearn.model_selection import KFold\n",
    "from sklearn import datasets\n",
    "from sklearn import metrics\n",
    "\n",
    "from sklearn.naive_bayes import GaussianNB, BernoulliNB, MultinomialNB\n",
    "from sklearn.tree import DecisionTreeClassifier\n",
    "from sklearn.neighbors import KNeighborsClassifier \n",
    "from sklearn.neural_network import MLPClassifier\n",
    "from sklearn.preprocessing import StandardScaler"
   ]
  },
  {
   "cell_type": "markdown",
   "metadata": {},
   "source": [
    "## Pembacaan Dataset"
   ]
  },
  {
   "cell_type": "code",
   "execution_count": 196,
   "metadata": {},
   "outputs": [],
   "source": [
    "data_test = pd.read_csv(\"tubes2_HeartDisease_test.csv\")\n",
    "data_train = pd.read_csv(\"tubes2_HeartDisease_train.csv\")"
   ]
  },
  {
   "cell_type": "code",
   "execution_count": 197,
   "metadata": {},
   "outputs": [
    {
     "data": {
      "text/html": [
       "<div>\n",
       "<style scoped>\n",
       "    .dataframe tbody tr th:only-of-type {\n",
       "        vertical-align: middle;\n",
       "    }\n",
       "\n",
       "    .dataframe tbody tr th {\n",
       "        vertical-align: top;\n",
       "    }\n",
       "\n",
       "    .dataframe thead th {\n",
       "        text-align: right;\n",
       "    }\n",
       "</style>\n",
       "<table border=\"1\" class=\"dataframe\">\n",
       "  <thead>\n",
       "    <tr style=\"text-align: right;\">\n",
       "      <th></th>\n",
       "      <th>Column1</th>\n",
       "      <th>Column2</th>\n",
       "      <th>Column3</th>\n",
       "      <th>Column4</th>\n",
       "      <th>Column5</th>\n",
       "      <th>Column6</th>\n",
       "      <th>Column7</th>\n",
       "      <th>Column8</th>\n",
       "      <th>Column9</th>\n",
       "      <th>Column10</th>\n",
       "      <th>Column11</th>\n",
       "      <th>Column12</th>\n",
       "      <th>Column13</th>\n",
       "      <th>Column14</th>\n",
       "    </tr>\n",
       "  </thead>\n",
       "  <tbody>\n",
       "    <tr>\n",
       "      <th>0</th>\n",
       "      <td>54</td>\n",
       "      <td>1</td>\n",
       "      <td>4</td>\n",
       "      <td>125</td>\n",
       "      <td>216</td>\n",
       "      <td>0</td>\n",
       "      <td>0</td>\n",
       "      <td>140</td>\n",
       "      <td>0</td>\n",
       "      <td>0</td>\n",
       "      <td>?</td>\n",
       "      <td>?</td>\n",
       "      <td>?</td>\n",
       "      <td>1</td>\n",
       "    </tr>\n",
       "    <tr>\n",
       "      <th>1</th>\n",
       "      <td>55</td>\n",
       "      <td>1</td>\n",
       "      <td>4</td>\n",
       "      <td>158</td>\n",
       "      <td>217</td>\n",
       "      <td>0</td>\n",
       "      <td>0</td>\n",
       "      <td>110</td>\n",
       "      <td>1</td>\n",
       "      <td>2.5</td>\n",
       "      <td>2</td>\n",
       "      <td>?</td>\n",
       "      <td>?</td>\n",
       "      <td>1</td>\n",
       "    </tr>\n",
       "    <tr>\n",
       "      <th>2</th>\n",
       "      <td>54</td>\n",
       "      <td>0</td>\n",
       "      <td>3</td>\n",
       "      <td>135</td>\n",
       "      <td>304</td>\n",
       "      <td>1</td>\n",
       "      <td>0</td>\n",
       "      <td>170</td>\n",
       "      <td>0</td>\n",
       "      <td>0</td>\n",
       "      <td>1</td>\n",
       "      <td>0</td>\n",
       "      <td>3</td>\n",
       "      <td>0</td>\n",
       "    </tr>\n",
       "    <tr>\n",
       "      <th>3</th>\n",
       "      <td>48</td>\n",
       "      <td>0</td>\n",
       "      <td>3</td>\n",
       "      <td>120</td>\n",
       "      <td>195</td>\n",
       "      <td>0</td>\n",
       "      <td>0</td>\n",
       "      <td>125</td>\n",
       "      <td>0</td>\n",
       "      <td>0</td>\n",
       "      <td>?</td>\n",
       "      <td>?</td>\n",
       "      <td>?</td>\n",
       "      <td>0</td>\n",
       "    </tr>\n",
       "    <tr>\n",
       "      <th>4</th>\n",
       "      <td>50</td>\n",
       "      <td>1</td>\n",
       "      <td>4</td>\n",
       "      <td>120</td>\n",
       "      <td>0</td>\n",
       "      <td>0</td>\n",
       "      <td>1</td>\n",
       "      <td>156</td>\n",
       "      <td>1</td>\n",
       "      <td>0</td>\n",
       "      <td>1</td>\n",
       "      <td>?</td>\n",
       "      <td>6</td>\n",
       "      <td>3</td>\n",
       "    </tr>\n",
       "  </tbody>\n",
       "</table>\n",
       "</div>"
      ],
      "text/plain": [
       "   Column1  Column2  Column3 Column4 Column5 Column6 Column7 Column8 Column9  \\\n",
       "0       54        1        4     125     216       0       0     140       0   \n",
       "1       55        1        4     158     217       0       0     110       1   \n",
       "2       54        0        3     135     304       1       0     170       0   \n",
       "3       48        0        3     120     195       0       0     125       0   \n",
       "4       50        1        4     120       0       0       1     156       1   \n",
       "\n",
       "  Column10 Column11 Column12 Column13  Column14  \n",
       "0        0        ?        ?        ?         1  \n",
       "1      2.5        2        ?        ?         1  \n",
       "2        0        1        0        3         0  \n",
       "3        0        ?        ?        ?         0  \n",
       "4        0        1        ?        6         3  "
      ]
     },
     "execution_count": 197,
     "metadata": {},
     "output_type": "execute_result"
    }
   ],
   "source": [
    "data_train.head()"
   ]
  },
  {
   "cell_type": "code",
   "execution_count": 198,
   "metadata": {},
   "outputs": [
    {
     "data": {
      "text/html": [
       "<div>\n",
       "<style scoped>\n",
       "    .dataframe tbody tr th:only-of-type {\n",
       "        vertical-align: middle;\n",
       "    }\n",
       "\n",
       "    .dataframe tbody tr th {\n",
       "        vertical-align: top;\n",
       "    }\n",
       "\n",
       "    .dataframe thead th {\n",
       "        text-align: right;\n",
       "    }\n",
       "</style>\n",
       "<table border=\"1\" class=\"dataframe\">\n",
       "  <thead>\n",
       "    <tr style=\"text-align: right;\">\n",
       "      <th></th>\n",
       "      <th>Column1</th>\n",
       "      <th>Column2</th>\n",
       "      <th>Column3</th>\n",
       "      <th>Column4</th>\n",
       "      <th>Column5</th>\n",
       "      <th>Column6</th>\n",
       "      <th>Column7</th>\n",
       "      <th>Column8</th>\n",
       "      <th>Column9</th>\n",
       "      <th>Column10</th>\n",
       "      <th>Column11</th>\n",
       "      <th>Column12</th>\n",
       "      <th>Column13</th>\n",
       "    </tr>\n",
       "  </thead>\n",
       "  <tbody>\n",
       "    <tr>\n",
       "      <th>0</th>\n",
       "      <td>60</td>\n",
       "      <td>1</td>\n",
       "      <td>2</td>\n",
       "      <td>160</td>\n",
       "      <td>267</td>\n",
       "      <td>1</td>\n",
       "      <td>1</td>\n",
       "      <td>157</td>\n",
       "      <td>0</td>\n",
       "      <td>0.5</td>\n",
       "      <td>2</td>\n",
       "      <td>?</td>\n",
       "      <td>?</td>\n",
       "    </tr>\n",
       "    <tr>\n",
       "      <th>1</th>\n",
       "      <td>61</td>\n",
       "      <td>1</td>\n",
       "      <td>4</td>\n",
       "      <td>148</td>\n",
       "      <td>203</td>\n",
       "      <td>0</td>\n",
       "      <td>0</td>\n",
       "      <td>161</td>\n",
       "      <td>0</td>\n",
       "      <td>0</td>\n",
       "      <td>1</td>\n",
       "      <td>1</td>\n",
       "      <td>7</td>\n",
       "    </tr>\n",
       "    <tr>\n",
       "      <th>2</th>\n",
       "      <td>54</td>\n",
       "      <td>1</td>\n",
       "      <td>4</td>\n",
       "      <td>130</td>\n",
       "      <td>242</td>\n",
       "      <td>0</td>\n",
       "      <td>0</td>\n",
       "      <td>91</td>\n",
       "      <td>1</td>\n",
       "      <td>1</td>\n",
       "      <td>2</td>\n",
       "      <td>?</td>\n",
       "      <td>?</td>\n",
       "    </tr>\n",
       "    <tr>\n",
       "      <th>3</th>\n",
       "      <td>48</td>\n",
       "      <td>1</td>\n",
       "      <td>4</td>\n",
       "      <td>120</td>\n",
       "      <td>260</td>\n",
       "      <td>0</td>\n",
       "      <td>0</td>\n",
       "      <td>115</td>\n",
       "      <td>0</td>\n",
       "      <td>2</td>\n",
       "      <td>2</td>\n",
       "      <td>?</td>\n",
       "      <td>?</td>\n",
       "    </tr>\n",
       "    <tr>\n",
       "      <th>4</th>\n",
       "      <td>57</td>\n",
       "      <td>0</td>\n",
       "      <td>1</td>\n",
       "      <td>130</td>\n",
       "      <td>308</td>\n",
       "      <td>0</td>\n",
       "      <td>0</td>\n",
       "      <td>98</td>\n",
       "      <td>0</td>\n",
       "      <td>1</td>\n",
       "      <td>2</td>\n",
       "      <td>?</td>\n",
       "      <td>?</td>\n",
       "    </tr>\n",
       "  </tbody>\n",
       "</table>\n",
       "</div>"
      ],
      "text/plain": [
       "   Column1  Column2  Column3 Column4 Column5 Column6  Column7 Column8 Column9  \\\n",
       "0       60        1        2     160     267       1        1     157       0   \n",
       "1       61        1        4     148     203       0        0     161       0   \n",
       "2       54        1        4     130     242       0        0      91       1   \n",
       "3       48        1        4     120     260       0        0     115       0   \n",
       "4       57        0        1     130     308       0        0      98       0   \n",
       "\n",
       "  Column10 Column11 Column12 Column13  \n",
       "0      0.5        2        ?        ?  \n",
       "1        0        1        1        7  \n",
       "2        1        2        ?        ?  \n",
       "3        2        2        ?        ?  \n",
       "4        1        2        ?        ?  "
      ]
     },
     "execution_count": 198,
     "metadata": {},
     "output_type": "execute_result"
    }
   ],
   "source": [
    "data_test.head()"
   ]
  },
  {
   "cell_type": "code",
   "execution_count": 199,
   "metadata": {},
   "outputs": [
    {
     "name": "stdout",
     "output_type": "stream",
     "text": [
      "Banyak Data Train : 779 \n",
      "Banyak Data Test : 141\n"
     ]
    }
   ],
   "source": [
    "print(\"Banyak Data Train :\", len(data_train), \"\\nBanyak Data Test :\", len(data_test))"
   ]
  },
  {
   "cell_type": "markdown",
   "metadata": {},
   "source": [
    "## 1. Pengolahan Data"
   ]
  },
  {
   "cell_type": "markdown",
   "metadata": {},
   "source": [
    "### Penanganan NaN"
   ]
  },
  {
   "cell_type": "markdown",
   "metadata": {},
   "source": [
    "#### Menghitung Jumlah NaN per Kolom"
   ]
  },
  {
   "cell_type": "code",
   "execution_count": 200,
   "metadata": {},
   "outputs": [
    {
     "name": "stdout",
     "output_type": "stream",
     "text": [
      "------------------- Data NaN pada data train -------------------\n",
      "Column1 berisi \"?\" sebanyak : 0 \tyaitu : 0.0 %\n",
      "Column2 berisi \"?\" sebanyak : 0 \tyaitu : 0.0 %\n",
      "Column3 berisi \"?\" sebanyak : 0 \tyaitu : 0.0 %\n",
      "Column4 berisi \"?\" sebanyak : 47 \tyaitu : 6.033376123234917 %\n",
      "Column5 berisi \"?\" sebanyak : 24 \tyaitu : 3.080872913992298 %\n",
      "Column6 berisi \"?\" sebanyak : 78 \tyaitu : 10.012836970474968 %\n",
      "Column7 berisi \"?\" sebanyak : 1 \tyaitu : 0.12836970474967907 %\n",
      "Column8 berisi \"?\" sebanyak : 44 \tyaitu : 5.648267008985879 %\n",
      "Column9 berisi \"?\" sebanyak : 44 \tyaitu : 5.648267008985879 %\n",
      "Column10 berisi \"?\" sebanyak : 49 \tyaitu : 6.290115532734275 %\n",
      "Column11 berisi \"?\" sebanyak : 262 \tyaitu : 33.632862644415916 %\n",
      "Column12 berisi \"?\" sebanyak : 514 \tyaitu : 65.98202824133504 %\n",
      "Column13 berisi \"?\" sebanyak : 408 \tyaitu : 52.374839537869065 %\n",
      "Column14 berisi \"?\" sebanyak : 0 \tyaitu : 0.0 %\n",
      "\n",
      "------------------- Data NaN pada data test -------------------\n",
      "Column1 berisi \"?\" sebanyak : 0 \tyaitu : 0.0 %\n",
      "Column2 berisi \"?\" sebanyak : 0 \tyaitu : 0.0 %\n",
      "Column3 berisi \"?\" sebanyak : 0 \tyaitu : 0.0 %\n",
      "Column4 berisi \"?\" sebanyak : 12 \tyaitu : 8.51063829787234 %\n",
      "Column5 berisi \"?\" sebanyak : 6 \tyaitu : 4.25531914893617 %\n",
      "Column6 berisi \"?\" sebanyak : 12 \tyaitu : 8.51063829787234 %\n",
      "Column7 berisi \"?\" sebanyak : 0 \tyaitu : 0.0 %\n",
      "Column8 berisi \"?\" sebanyak : 11 \tyaitu : 7.801418439716312 %\n",
      "Column9 berisi \"?\" sebanyak : 11 \tyaitu : 7.801418439716312 %\n",
      "Column10 berisi \"?\" sebanyak : 13 \tyaitu : 9.219858156028367 %\n",
      "Column11 berisi \"?\" sebanyak : 47 \tyaitu : 33.33333333333333 %\n",
      "Column12 berisi \"?\" sebanyak : 97 \tyaitu : 68.79432624113475 %\n",
      "Column13 berisi \"?\" sebanyak : 78 \tyaitu : 55.319148936170215 %\n"
     ]
    }
   ],
   "source": [
    "def countNanCol(df, colName) :\n",
    "    count = 0\n",
    "    for index, row in df.iterrows():\n",
    "        if (row[colName] == \"?\") :\n",
    "            count += 1\n",
    "    return count\n",
    "\n",
    "print(\"------------------- Data NaN pada data train -------------------\")\n",
    "for column in data_train:\n",
    "    banyakKosong = countNanCol(data_train, column)\n",
    "    print(column, \"berisi \\\"?\\\" sebanyak :\", banyakKosong, \"\\tyaitu :\", banyakKosong/len(data_train)*100, \"%\")\n",
    "    \n",
    "print()\n",
    "print(\"------------------- Data NaN pada data test -------------------\")\n",
    "for column in data_test:\n",
    "    banyakKosong = countNanCol(data_test, column)\n",
    "    print(column, \"berisi \\\"?\\\" sebanyak :\", banyakKosong, \"\\tyaitu :\", banyakKosong/len(data_test)*100, \"%\")"
   ]
  },
  {
   "cell_type": "markdown",
   "metadata": {},
   "source": [
    "#### Menghitung Jumlah NaN per Baris"
   ]
  },
  {
   "cell_type": "code",
   "execution_count": 201,
   "metadata": {},
   "outputs": [
    {
     "name": "stdout",
     "output_type": "stream",
     "text": [
      "------------------- Data NaN pada data train -------------------\n",
      "Kosong sebanyak 0 ada sejumlah : 256 \tyakni : 32.86264441591784 %\n",
      "Kosong sebanyak 1 ada sejumlah : 62 \tyakni : 7.958921694480104 %\n",
      "Kosong sebanyak 2 ada sejumlah : 172 \tyakni : 22.0795892169448 %\n",
      "Kosong sebanyak 3 ada sejumlah : 223 \tyakni : 28.626444159178433 %\n",
      "Kosong sebanyak 4 ada sejumlah : 21 \tyakni : 2.6957637997432604 %\n",
      "Kosong sebanyak 5 ada sejumlah : 2 \tyakni : 0.25673940949935814 %\n",
      "Kosong sebanyak 6 ada sejumlah : 1 \tyakni : 0.12836970474967907 %\n",
      "Kosong sebanyak 7 ada sejumlah : 40 \tyakni : 5.134788189987163 %\n",
      "Kosong sebanyak 8 ada sejumlah : 2 \tyakni : 0.25673940949935814 %\n",
      "Kosong sebanyak 9 ada sejumlah : 0 \tyakni : 0.0 %\n",
      "Kosong sebanyak 10 ada sejumlah : 0 \tyakni : 0.0 %\n",
      "Kosong sebanyak 11 ada sejumlah : 0 \tyakni : 0.0 %\n",
      "Kosong sebanyak 12 ada sejumlah : 0 \tyakni : 0.0 %\n",
      "\n",
      "------------------- Data NaN pada data test -------------------\n",
      "Kosong sebanyak 0 ada sejumlah : 43 \tyakni : 5.5198973042362 %\n",
      "Kosong sebanyak 1 ada sejumlah : 12 \tyakni : 1.540436456996149 %\n",
      "Kosong sebanyak 2 ada sejumlah : 36 \tyakni : 4.621309370988447 %\n",
      "Kosong sebanyak 3 ada sejumlah : 31 \tyakni : 3.979460847240052 %\n",
      "Kosong sebanyak 4 ada sejumlah : 7 \tyakni : 0.8985879332477535 %\n",
      "Kosong sebanyak 5 ada sejumlah : 1 \tyakni : 0.12836970474967907 %\n",
      "Kosong sebanyak 6 ada sejumlah : 0 \tyakni : 0.0 %\n",
      "Kosong sebanyak 7 ada sejumlah : 11 \tyakni : 1.4120667522464698 %\n",
      "Kosong sebanyak 8 ada sejumlah : 0 \tyakni : 0.0 %\n",
      "Kosong sebanyak 9 ada sejumlah : 0 \tyakni : 0.0 %\n",
      "Kosong sebanyak 10 ada sejumlah : 0 \tyakni : 0.0 %\n",
      "Kosong sebanyak 11 ada sejumlah : 0 \tyakni : 0.0 %\n",
      "Kosong sebanyak 12 ada sejumlah : 0 \tyakni : 0.0 %\n"
     ]
    }
   ],
   "source": [
    "def countNanRow(df, rowNum) :\n",
    "    count = 0\n",
    "    for column in df :\n",
    "        if (df.loc[rowNum][column] == \"?\") :\n",
    "            count += 1\n",
    "    return count\n",
    "\n",
    "print(\"------------------- Data NaN pada data train -------------------\")\n",
    "rowNan = [0 for i in range (13)]\n",
    "# counting\n",
    "for index, row in data_train.iterrows():\n",
    "    rowNan[countNanRow(data_train, index)] += 1\n",
    "for i in range (13):\n",
    "    print(\"Kosong sebanyak\", i, \"ada sejumlah :\", rowNan[i], \"\\tyakni :\", rowNan[i]/len(data_train)*100, \"%\")\n",
    "    \n",
    "print()\n",
    "print(\"------------------- Data NaN pada data test -------------------\")\n",
    "rowNan = [0 for i in range (13)]\n",
    "# counting\n",
    "for index, row in data_test.iterrows():\n",
    "    rowNan[countNanRow(data_test, index)] += 1\n",
    "for i in range (13):\n",
    "    print(\"Kosong sebanyak\", i, \"ada sejumlah :\", rowNan[i], \"\\tyakni :\", rowNan[i]/len(data_train)*100, \"%\")"
   ]
  },
  {
   "cell_type": "markdown",
   "metadata": {},
   "source": [
    "#### Mengabaikan data pada baris dengan jumlah kosong sebanyak Threshold"
   ]
  },
  {
   "cell_type": "code",
   "execution_count": 222,
   "metadata": {},
   "outputs": [
    {
     "name": "stdout",
     "output_type": "stream",
     "text": [
      "Jumlah data baru : 543\n"
     ]
    }
   ],
   "source": [
    "threshold = 7\n",
    "\n",
    "listDel = []\n",
    "for index, row in data_train.iterrows():\n",
    "    if (countNanRow(data_train, index) > threshold) :\n",
    "        listDel.append(index)\n",
    "\n",
    "data_train_clean = data_train.drop(listDel)\n",
    "print(\"Jumlah data baru :\", len(data_train_clean))"
   ]
  },
  {
   "cell_type": "markdown",
   "metadata": {},
   "source": [
    "#### Mengisi data kosong dengan mean pada kolom 4, 5, 8, 10, 12 dan modus untuk sisanya"
   ]
  },
  {
   "cell_type": "markdown",
   "metadata": {},
   "source": [
    "Mencari nilai data yang akan dimasukkan"
   ]
  },
  {
   "cell_type": "code",
   "execution_count": 203,
   "metadata": {},
   "outputs": [],
   "source": [
    "## Cek data dulu pake mean atau median\n",
    "replacer = []\n",
    "\n",
    "def dropNanOnCol(df, colName) :\n",
    "    listDel = []\n",
    "    for index, row in df.iterrows():\n",
    "        if (row[colName] == \"?\") :\n",
    "            listDel.append(index)\n",
    "    return df.drop(listDel)\n",
    "\n",
    "changeWithMean = ['Column4', 'Column5', 'Column8', 'Column10', 'Column12']\n",
    "for column in data_train_clean:\n",
    "    cleanData = dropNanOnCol(data_train_clean, column)\n",
    "    if (column in changeWithMean) :\n",
    "        replacer.append(cleanData.median()[column])\n",
    "#         replacer.append(np.asarray(cleanData.loc[:,column], dtype=np.float).mean())\n",
    "    else :\n",
    "        replacer.append(cleanData.mode()[column])\n",
    "      \n",
    "# special case\n",
    "replacer[10] = replacer[10][0]"
   ]
  },
  {
   "cell_type": "markdown",
   "metadata": {},
   "source": [
    "Mengisi nilai data"
   ]
  },
  {
   "cell_type": "code",
   "execution_count": 204,
   "metadata": {},
   "outputs": [],
   "source": [
    "i = 0\n",
    "for column in data_train_clean:\n",
    "    for index, row in data_train_clean.iterrows():\n",
    "        if (row[column] == \"?\") :\n",
    "            if (type(replacer[i]) != str) : \n",
    "                data_train_clean.at[index, column] = replacer[i].item()\n",
    "            else :\n",
    "                data_train_clean.at[index, column] = replacer[i]\n",
    "    i += 1\n"
   ]
  },
  {
   "cell_type": "markdown",
   "metadata": {},
   "source": [
    "#### Mengabaikan kolom 12 dan 13"
   ]
  },
  {
   "cell_type": "code",
   "execution_count": 205,
   "metadata": {},
   "outputs": [],
   "source": [
    "data_train_clean.drop(['Column12', 'Column13'],axis=1, inplace=True)"
   ]
  },
  {
   "cell_type": "code",
   "execution_count": 206,
   "metadata": {},
   "outputs": [],
   "source": [
    "# use pd.concat to join the new columns with your original dataframe\n",
    "data_train_ready = pd.concat([data_train_clean,pd.get_dummies(data_train_clean['Column3'], prefix='Column3')],axis=1)\n",
    "data_train_ready = pd.concat([data_train_ready,pd.get_dummies(data_train_clean['Column7'], prefix='Column7')],axis=1)\n",
    "data_train_ready = pd.concat([data_train_ready,pd.get_dummies(data_train_clean['Column11'], prefix='Column11')],axis=1)\n",
    "\n",
    "#delete unused column\n",
    "data_train_ready.drop(['Column3'],axis=1, inplace=True)\n",
    "data_train_ready.drop(['Column7'],axis=1, inplace=True)\n",
    "data_train_ready.drop(['Column11'],axis=1, inplace=True)"
   ]
  },
  {
   "cell_type": "code",
   "execution_count": 207,
   "metadata": {},
   "outputs": [
    {
     "data": {
      "text/plain": [
       "0    348\n",
       "1    225\n",
       "2     91\n",
       "3     90\n",
       "4     23\n",
       "Name: Column14, dtype: int64"
      ]
     },
     "execution_count": 207,
     "metadata": {},
     "output_type": "execute_result"
    }
   ],
   "source": [
    "data_train_ready['Column14'].value_counts()"
   ]
  },
  {
   "cell_type": "markdown",
   "metadata": {},
   "source": [
    "## 2. Eksperimen"
   ]
  },
  {
   "cell_type": "markdown",
   "metadata": {},
   "source": [
    "#### Import modul terkait splitting data"
   ]
  },
  {
   "cell_type": "code",
   "execution_count": 208,
   "metadata": {},
   "outputs": [],
   "source": [
    "from sklearn.model_selection import train_test_split"
   ]
  },
  {
   "cell_type": "markdown",
   "metadata": {},
   "source": [
    "#### Fungsi penilaian"
   ]
  },
  {
   "cell_type": "code",
   "execution_count": 209,
   "metadata": {},
   "outputs": [],
   "source": [
    "from sklearn.metrics import confusion_matrix \n",
    "from sklearn.metrics import accuracy_score \n",
    "from sklearn.metrics import classification_report \n",
    "\n",
    "def cal_accuracy(y_test, y_pred): \n",
    "      \n",
    "    print(\"Confusion Matrix: \\n\", \n",
    "        confusion_matrix(y_test, y_pred)) \n",
    "      \n",
    "    print (\"Accuracy : \\n\", \n",
    "    accuracy_score(y_test,y_pred)*100) \n",
    "    print(\"Report : \\n\", \n",
    "    classification_report(y_test, y_pred)) "
   ]
  },
  {
   "cell_type": "markdown",
   "metadata": {},
   "source": [
    "#### Pemotongan data training dan data testing"
   ]
  },
  {
   "cell_type": "code",
   "execution_count": 210,
   "metadata": {},
   "outputs": [],
   "source": [
    "data = data_train_ready.drop(columns=['Column14'])\n",
    "target = data_train_ready['Column14']\n",
    "\n",
    "data_train, data_test, target_train, target_test = train_test_split(data, target, test_size = 0.3, random_state = 100)"
   ]
  },
  {
   "cell_type": "code",
   "execution_count": 211,
   "metadata": {},
   "outputs": [
    {
     "data": {
      "text/html": [
       "<div>\n",
       "<style scoped>\n",
       "    .dataframe tbody tr th:only-of-type {\n",
       "        vertical-align: middle;\n",
       "    }\n",
       "\n",
       "    .dataframe tbody tr th {\n",
       "        vertical-align: top;\n",
       "    }\n",
       "\n",
       "    .dataframe thead th {\n",
       "        text-align: right;\n",
       "    }\n",
       "</style>\n",
       "<table border=\"1\" class=\"dataframe\">\n",
       "  <thead>\n",
       "    <tr style=\"text-align: right;\">\n",
       "      <th></th>\n",
       "      <th>Column1</th>\n",
       "      <th>Column2</th>\n",
       "      <th>Column4</th>\n",
       "      <th>Column5</th>\n",
       "      <th>Column6</th>\n",
       "      <th>Column8</th>\n",
       "      <th>Column9</th>\n",
       "      <th>Column10</th>\n",
       "      <th>Column3_1</th>\n",
       "      <th>Column3_2</th>\n",
       "      <th>Column3_3</th>\n",
       "      <th>Column3_4</th>\n",
       "      <th>Column7_0</th>\n",
       "      <th>Column7_1</th>\n",
       "      <th>Column7_2</th>\n",
       "      <th>Column11_1</th>\n",
       "      <th>Column11_2</th>\n",
       "      <th>Column11_3</th>\n",
       "    </tr>\n",
       "  </thead>\n",
       "  <tbody>\n",
       "    <tr>\n",
       "      <th>299</th>\n",
       "      <td>50</td>\n",
       "      <td>0</td>\n",
       "      <td>160</td>\n",
       "      <td>0</td>\n",
       "      <td>0</td>\n",
       "      <td>110</td>\n",
       "      <td>0</td>\n",
       "      <td>0</td>\n",
       "      <td>0</td>\n",
       "      <td>0</td>\n",
       "      <td>0</td>\n",
       "      <td>1</td>\n",
       "      <td>1</td>\n",
       "      <td>0</td>\n",
       "      <td>0</td>\n",
       "      <td>0</td>\n",
       "      <td>1</td>\n",
       "      <td>0</td>\n",
       "    </tr>\n",
       "    <tr>\n",
       "      <th>339</th>\n",
       "      <td>57</td>\n",
       "      <td>1</td>\n",
       "      <td>130</td>\n",
       "      <td>311</td>\n",
       "      <td>0</td>\n",
       "      <td>148</td>\n",
       "      <td>1</td>\n",
       "      <td>2</td>\n",
       "      <td>0</td>\n",
       "      <td>0</td>\n",
       "      <td>0</td>\n",
       "      <td>1</td>\n",
       "      <td>0</td>\n",
       "      <td>1</td>\n",
       "      <td>0</td>\n",
       "      <td>0</td>\n",
       "      <td>1</td>\n",
       "      <td>0</td>\n",
       "    </tr>\n",
       "    <tr>\n",
       "      <th>320</th>\n",
       "      <td>59</td>\n",
       "      <td>1</td>\n",
       "      <td>135</td>\n",
       "      <td>234</td>\n",
       "      <td>0</td>\n",
       "      <td>161</td>\n",
       "      <td>0</td>\n",
       "      <td>5</td>\n",
       "      <td>0</td>\n",
       "      <td>0</td>\n",
       "      <td>0</td>\n",
       "      <td>1</td>\n",
       "      <td>1</td>\n",
       "      <td>0</td>\n",
       "      <td>0</td>\n",
       "      <td>0</td>\n",
       "      <td>1</td>\n",
       "      <td>0</td>\n",
       "    </tr>\n",
       "    <tr>\n",
       "      <th>587</th>\n",
       "      <td>61</td>\n",
       "      <td>1</td>\n",
       "      <td>140</td>\n",
       "      <td>207</td>\n",
       "      <td>0</td>\n",
       "      <td>138</td>\n",
       "      <td>1</td>\n",
       "      <td>19</td>\n",
       "      <td>0</td>\n",
       "      <td>0</td>\n",
       "      <td>0</td>\n",
       "      <td>1</td>\n",
       "      <td>0</td>\n",
       "      <td>0</td>\n",
       "      <td>1</td>\n",
       "      <td>1</td>\n",
       "      <td>0</td>\n",
       "      <td>0</td>\n",
       "    </tr>\n",
       "    <tr>\n",
       "      <th>689</th>\n",
       "      <td>58</td>\n",
       "      <td>1</td>\n",
       "      <td>140</td>\n",
       "      <td>211</td>\n",
       "      <td>1</td>\n",
       "      <td>165</td>\n",
       "      <td>0</td>\n",
       "      <td>0</td>\n",
       "      <td>0</td>\n",
       "      <td>0</td>\n",
       "      <td>1</td>\n",
       "      <td>0</td>\n",
       "      <td>0</td>\n",
       "      <td>0</td>\n",
       "      <td>1</td>\n",
       "      <td>1</td>\n",
       "      <td>0</td>\n",
       "      <td>0</td>\n",
       "    </tr>\n",
       "  </tbody>\n",
       "</table>\n",
       "</div>"
      ],
      "text/plain": [
       "     Column1  Column2 Column4 Column5 Column6 Column8 Column9 Column10  \\\n",
       "299       50        0     160       0       0     110       0        0   \n",
       "339       57        1     130     311       0     148       1        2   \n",
       "320       59        1     135     234       0     161       0        5   \n",
       "587       61        1     140     207       0     138       1       19   \n",
       "689       58        1     140     211       1     165       0        0   \n",
       "\n",
       "     Column3_1  Column3_2  Column3_3  Column3_4  Column7_0  Column7_1  \\\n",
       "299          0          0          0          1          1          0   \n",
       "339          0          0          0          1          0          1   \n",
       "320          0          0          0          1          1          0   \n",
       "587          0          0          0          1          0          0   \n",
       "689          0          0          1          0          0          0   \n",
       "\n",
       "     Column7_2  Column11_1  Column11_2  Column11_3  \n",
       "299          0           0           1           0  \n",
       "339          0           0           1           0  \n",
       "320          0           0           1           0  \n",
       "587          1           1           0           0  \n",
       "689          1           1           0           0  "
      ]
     },
     "execution_count": 211,
     "metadata": {},
     "output_type": "execute_result"
    }
   ],
   "source": [
    "data_test.head()"
   ]
  },
  {
   "cell_type": "markdown",
   "metadata": {},
   "source": [
    "### Naive Bayes"
   ]
  },
  {
   "cell_type": "code",
   "execution_count": 212,
   "metadata": {},
   "outputs": [
    {
     "name": "stdout",
     "output_type": "stream",
     "text": [
      "Confusion Matrix: \n",
      " [[75  3  0 23  8]\n",
      " [13 11  0 41  7]\n",
      " [ 2  1  0 16  4]\n",
      " [ 2  1  0 17  4]\n",
      " [ 0  0  0  5  1]]\n",
      "Accuracy : \n",
      " 44.44444444444444\n",
      "Report : \n",
      "              precision    recall  f1-score   support\n",
      "\n",
      "          0       0.82      0.69      0.75       109\n",
      "          1       0.69      0.15      0.25        72\n",
      "          2       0.00      0.00      0.00        23\n",
      "          3       0.17      0.71      0.27        24\n",
      "          4       0.04      0.17      0.07         6\n",
      "\n",
      "avg / total       0.61      0.44      0.45       234\n",
      "\n"
     ]
    },
    {
     "name": "stderr",
     "output_type": "stream",
     "text": [
      "/home/hagairaja/anaconda3/lib/python3.6/site-packages/sklearn/metrics/classification.py:1135: UndefinedMetricWarning: Precision and F-score are ill-defined and being set to 0.0 in labels with no predicted samples.\n",
      "  'precision', 'predicted', average, warn_for)\n"
     ]
    }
   ],
   "source": [
    "from sklearn.naive_bayes import GaussianNB\n",
    "gnb = GaussianNB()\n",
    "\n",
    "model_gnb = gnb.fit(data_train, target_train)\n",
    "y_pred = model_gnb.predict(data_test)\n",
    "\n",
    "cal_accuracy(target_test, y_pred)"
   ]
  },
  {
   "cell_type": "markdown",
   "metadata": {},
   "source": [
    "### kNN"
   ]
  },
  {
   "cell_type": "code",
   "execution_count": 218,
   "metadata": {},
   "outputs": [
    {
     "name": "stdout",
     "output_type": "stream",
     "text": [
      "Confusion Matrix: \n",
      " [[25  4  1  3  0]\n",
      " [14 10  0  4  0]\n",
      " [ 1  2  4  0  0]\n",
      " [ 3  5  0  0  0]\n",
      " [ 0  1  1  0  0]]\n",
      "Accuracy : \n",
      " 50.0\n",
      "Report : \n",
      "              precision    recall  f1-score   support\n",
      "\n",
      "          0       0.58      0.76      0.66        33\n",
      "          1       0.45      0.36      0.40        28\n",
      "          2       0.67      0.57      0.62         7\n",
      "          3       0.00      0.00      0.00         8\n",
      "          4       0.00      0.00      0.00         2\n",
      "\n",
      "avg / total       0.47      0.50      0.48        78\n",
      "\n"
     ]
    },
    {
     "name": "stderr",
     "output_type": "stream",
     "text": [
      "/home/hagairaja/anaconda3/lib/python3.6/site-packages/sklearn/metrics/classification.py:1135: UndefinedMetricWarning: Precision and F-score are ill-defined and being set to 0.0 in labels with no predicted samples.\n",
      "  'precision', 'predicted', average, warn_for)\n"
     ]
    }
   ],
   "source": [
    "from sklearn import neighbors\n",
    "import matplotlib.pyplot as plt\n",
    "from matplotlib.colors import ListedColormap\n",
    "from sklearn.manifold import Isomap\n",
    "\n",
    "n_neighbors = 15\n",
    "\n",
    "# compressing all the features into two features\n",
    "iso = Isomap(n_components=2)\n",
    "projected = iso.fit_transform(data)\n",
    "X = projected\n",
    "y = target\n",
    "\n",
    "X_train, X_test, y_train, y_test = train_test_split(X, y, test_size = 0.1, random_state = 100)\n",
    "\n",
    "h = .02  # step size in the mesh\n",
    "\n",
    "model_knc = neighbors.KNeighborsClassifier(n_neighbors, weights='distance')\n",
    "model_knc.fit(X_train, y_train)\n",
    "y_pred = model_knc.predict(X_test)\n",
    "\n",
    "cal_accuracy(y_test, y_pred)"
   ]
  },
  {
   "cell_type": "markdown",
   "metadata": {},
   "source": [
    "### Decision Tree"
   ]
  },
  {
   "cell_type": "code",
   "execution_count": 214,
   "metadata": {},
   "outputs": [
    {
     "name": "stdout",
     "output_type": "stream",
     "text": [
      "Confusion Matrix: \n",
      " [[85 17  6  1  0]\n",
      " [25 31 11  5  0]\n",
      " [ 3 12  4  4  0]\n",
      " [ 8  8  6  2  0]\n",
      " [ 1  1  2  2  0]]\n",
      "Accuracy : \n",
      " 52.13675213675214\n",
      "Report : \n",
      "              precision    recall  f1-score   support\n",
      "\n",
      "          0       0.70      0.78      0.74       109\n",
      "          1       0.45      0.43      0.44        72\n",
      "          2       0.14      0.17      0.15        23\n",
      "          3       0.14      0.08      0.11        24\n",
      "          4       0.00      0.00      0.00         6\n",
      "\n",
      "avg / total       0.49      0.52      0.50       234\n",
      "\n"
     ]
    },
    {
     "name": "stderr",
     "output_type": "stream",
     "text": [
      "/home/hagairaja/anaconda3/lib/python3.6/site-packages/sklearn/metrics/classification.py:1135: UndefinedMetricWarning: Precision and F-score are ill-defined and being set to 0.0 in labels with no predicted samples.\n",
      "  'precision', 'predicted', average, warn_for)\n"
     ]
    }
   ],
   "source": [
    "from sklearn import tree\n",
    "dtc = tree.DecisionTreeClassifier(criterion=\"gini\",min_samples_leaf=5)\n",
    "\n",
    "model_dtc = dtc.fit(data_train, target_train)\n",
    "y_pred = model_dtc.predict(data_test)\n",
    "\n",
    "cal_accuracy(target_test, y_pred)"
   ]
  },
  {
   "cell_type": "markdown",
   "metadata": {},
   "source": [
    "### Neural Network MLP"
   ]
  },
  {
   "cell_type": "code",
   "execution_count": 215,
   "metadata": {},
   "outputs": [
    {
     "name": "stdout",
     "output_type": "stream",
     "text": [
      "Confusion Matrix: \n",
      " [[97  6  3  3  0]\n",
      " [48 11  4  9  0]\n",
      " [ 8 10  1  4  0]\n",
      " [13  6  2  3  0]\n",
      " [ 1  1  2  2  0]]\n",
      "Accuracy : \n",
      " 47.863247863247864\n",
      "Report : \n",
      "              precision    recall  f1-score   support\n",
      "\n",
      "          0       0.58      0.89      0.70       109\n",
      "          1       0.32      0.15      0.21        72\n",
      "          2       0.08      0.04      0.06        23\n",
      "          3       0.14      0.12      0.13        24\n",
      "          4       0.00      0.00      0.00         6\n",
      "\n",
      "avg / total       0.39      0.48      0.41       234\n",
      "\n"
     ]
    },
    {
     "name": "stderr",
     "output_type": "stream",
     "text": [
      "/home/hagairaja/anaconda3/lib/python3.6/site-packages/sklearn/metrics/classification.py:1135: UndefinedMetricWarning: Precision and F-score are ill-defined and being set to 0.0 in labels with no predicted samples.\n",
      "  'precision', 'predicted', average, warn_for)\n"
     ]
    }
   ],
   "source": [
    "from sklearn.neural_network import MLPClassifier\n",
    "\n",
    "mlp = MLPClassifier(activation='relu', hidden_layer_sizes=(120, 30), solver='lbfgs')\n",
    "\n",
    "model_mlp = mlp.fit(data_train, target_train)\n",
    "y_pred = model_mlp.predict(data_test)\n",
    "\n",
    "cal_accuracy(target_test, y_pred)"
   ]
  },
  {
   "cell_type": "markdown",
   "metadata": {},
   "source": [
    "## 3. Penyimpanan Model"
   ]
  },
  {
   "cell_type": "code",
   "execution_count": 226,
   "metadata": {},
   "outputs": [],
   "source": [
    "#Menyimpan Naive Bayes Model\n",
    "filename = 'nb_model.sav'\n",
    "pickle.dump(gnb, open(filename, 'wb'))\n",
    "\n",
    "#Menyimpan kNN Model\n",
    "filename = 'knn_model.sav'\n",
    "pickle.dump(model_knc, open(filename, 'wb'))\n",
    "\n",
    "#Menyimpan Desicion Tree Mode\n",
    "filename = 'dt_model.sav'\n",
    "pickle.dump(dtc, open(filename, 'wb'))\n",
    "\n",
    "#Menyimpan Neural Network MLP\n",
    "filename = 'nnmlp_model.sav'\n",
    "pickle.dump(mlp, open(filename, 'wb'))"
   ]
  },
  {
   "cell_type": "markdown",
   "metadata": {},
   "source": [
    "## 4. Load Model"
   ]
  },
  {
   "cell_type": "code",
   "execution_count": 227,
   "metadata": {},
   "outputs": [],
   "source": [
    "#Memuat Naive Bayes Model\n",
    "filename = 'nb_model.sav'\n",
    "NaiveBayesModel = pickle.load(open(filename, 'rb'))\n",
    "\n",
    "#Memuat kNN Model\n",
    "filename = 'knn_model.sav'\n",
    "kNNModel = pickle.load(open(filename, 'rb'))\n",
    "\n",
    "#Memuat Desicion Tree Model\n",
    "filename = 'dt_model.sav'\n",
    "DesicionTreeModel = pickle.load(open(filename, 'rb'))\n",
    "\n",
    "#Memuat Neural Network MLP\n",
    "filename = 'nnmlp_model.sav'\n",
    "NeuralNetworkMLPModel = pickle.load(open(filename, 'rb'))"
   ]
  }
 ],
 "metadata": {
  "kernelspec": {
   "display_name": "Python 3",
   "language": "python",
   "name": "python3"
  },
  "language_info": {
   "codemirror_mode": {
    "name": "ipython",
    "version": 3
   },
   "file_extension": ".py",
   "mimetype": "text/x-python",
   "name": "python",
   "nbconvert_exporter": "python",
   "pygments_lexer": "ipython3",
   "version": "3.6.5"
  }
 },
 "nbformat": 4,
 "nbformat_minor": 2
}
